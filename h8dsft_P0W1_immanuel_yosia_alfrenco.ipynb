{
  "cells": [
    {
      "cell_type": "markdown",
      "metadata": {
        "id": "vxkdrVVLgCge"
      },
      "source": [
        "# i. Perkenalan"
      ]
    },
    {
      "cell_type": "markdown",
      "metadata": {
        "id": "Eey06eApb-bk"
      },
      "source": [
        "Nama : Immanuel Yosia Alfrenco\n",
        "\n",
        "---\n",
        "\n",
        "Latar Belakang Masalah :\n",
        "\n",
        "Pandemi covid-19 merupakan salah satu masalah yang cukup besar yang terjadi mulai dari awal tahun 2020. Pandemi covid-19 menyebar dengan cepat ke banyak negara sehingga menyebabkan banyak kerugian di berbagai sektor seperti wisata, transportasi, perekonomian negara, dan lain sebagainya. Dalam tugas ini saya akan menganalisa data penyebaran covid-19 di negara Jepang. \n",
        "\n",
        "---\n",
        "\n",
        "Problem Statement :\n",
        "\n",
        "Tingkat kematian di ibukota Jepang yaitu Tokyo adalah yang paling tinggi dibandingkan dengan kota lain di Jepang"
      ]
    },
    {
      "cell_type": "markdown",
      "metadata": {
        "id": "P38UQhyKgIiY"
      },
      "source": [
        "# ii. Import Library"
      ]
    },
    {
      "cell_type": "code",
      "execution_count": 1,
      "metadata": {
        "id": "m1DIZpy1b97y"
      },
      "outputs": [],
      "source": [
        "# Query yang digunakan dalam Google Cloud Platform\n",
        "# SELECT * FROM `bigquery-public-data.covid19_jhu_csse_eu.summary` WHERE country_region = 'Japan' ORDER BY date"
      ]
    },
    {
      "cell_type": "markdown",
      "metadata": {
        "id": "rTvjiACbgR3z"
      },
      "source": [
        "# iii. Data Loading"
      ]
    },
    {
      "cell_type": "code",
      "execution_count": 2,
      "metadata": {
        "id": "LJhqBFlVQ3kO"
      },
      "outputs": [],
      "source": [
        "# Melakukan import library yang digunakan\n",
        "import numpy as np\n",
        "import pandas as pd"
      ]
    },
    {
      "cell_type": "code",
      "execution_count": 3,
      "metadata": {
        "id": "2qz0Wid3aMkY"
      },
      "outputs": [],
      "source": [
        "# Memasukan data csv yang akan digunakan\n",
        "df = pd.read_csv('h8dsft_P0GC1_immanuel_yosia_alfrenco.csv')"
      ]
    },
    {
      "cell_type": "code",
      "execution_count": 4,
      "metadata": {
        "colab": {
          "base_uri": "https://localhost:8080/"
        },
        "id": "LRJJBf8gbX5-",
        "outputId": "79506e86-4d3f-4a51-8e26-48c0e50491f0"
      },
      "outputs": [
        {
          "data": {
            "text/plain": [
              "39619"
            ]
          },
          "execution_count": 4,
          "metadata": {},
          "output_type": "execute_result"
        }
      ],
      "source": [
        "# Mengetahui panjang data atau jumlah baris pada data\n",
        "len(df)"
      ]
    },
    {
      "cell_type": "code",
      "execution_count": 5,
      "metadata": {
        "colab": {
          "base_uri": "https://localhost:8080/",
          "height": 357
        },
        "id": "aqZE4pz5fAuy",
        "outputId": "c3d47362-537c-40aa-dfce-9f53ab625242"
      },
      "outputs": [
        {
          "data": {
            "text/html": [
              "\n",
              "  <div id=\"df-b343f017-c5b9-4181-8d0b-9cb081929465\">\n",
              "    <div class=\"colab-df-container\">\n",
              "      <div>\n",
              "<style scoped>\n",
              "    .dataframe tbody tr th:only-of-type {\n",
              "        vertical-align: middle;\n",
              "    }\n",
              "\n",
              "    .dataframe tbody tr th {\n",
              "        vertical-align: top;\n",
              "    }\n",
              "\n",
              "    .dataframe thead th {\n",
              "        text-align: right;\n",
              "    }\n",
              "</style>\n",
              "<table border=\"1\" class=\"dataframe\">\n",
              "  <thead>\n",
              "    <tr style=\"text-align: right;\">\n",
              "      <th></th>\n",
              "      <th>province_state</th>\n",
              "      <th>country_region</th>\n",
              "      <th>date</th>\n",
              "      <th>latitude</th>\n",
              "      <th>longitude</th>\n",
              "      <th>location_geom</th>\n",
              "      <th>confirmed</th>\n",
              "      <th>deaths</th>\n",
              "      <th>recovered</th>\n",
              "      <th>active</th>\n",
              "      <th>fips</th>\n",
              "      <th>admin2</th>\n",
              "      <th>combined_key</th>\n",
              "    </tr>\n",
              "  </thead>\n",
              "  <tbody>\n",
              "    <tr>\n",
              "      <th>0</th>\n",
              "      <td>NaN</td>\n",
              "      <td>Japan</td>\n",
              "      <td>2020-01-22</td>\n",
              "      <td>NaN</td>\n",
              "      <td>NaN</td>\n",
              "      <td>NaN</td>\n",
              "      <td>2</td>\n",
              "      <td>NaN</td>\n",
              "      <td>NaN</td>\n",
              "      <td>NaN</td>\n",
              "      <td>NaN</td>\n",
              "      <td>NaN</td>\n",
              "      <td>NaN</td>\n",
              "    </tr>\n",
              "    <tr>\n",
              "      <th>1</th>\n",
              "      <td>NaN</td>\n",
              "      <td>Japan</td>\n",
              "      <td>2020-01-23</td>\n",
              "      <td>NaN</td>\n",
              "      <td>NaN</td>\n",
              "      <td>NaN</td>\n",
              "      <td>1</td>\n",
              "      <td>NaN</td>\n",
              "      <td>NaN</td>\n",
              "      <td>NaN</td>\n",
              "      <td>NaN</td>\n",
              "      <td>NaN</td>\n",
              "      <td>NaN</td>\n",
              "    </tr>\n",
              "    <tr>\n",
              "      <th>2</th>\n",
              "      <td>NaN</td>\n",
              "      <td>Japan</td>\n",
              "      <td>2020-01-24</td>\n",
              "      <td>NaN</td>\n",
              "      <td>NaN</td>\n",
              "      <td>NaN</td>\n",
              "      <td>2</td>\n",
              "      <td>NaN</td>\n",
              "      <td>NaN</td>\n",
              "      <td>NaN</td>\n",
              "      <td>NaN</td>\n",
              "      <td>NaN</td>\n",
              "      <td>NaN</td>\n",
              "    </tr>\n",
              "    <tr>\n",
              "      <th>3</th>\n",
              "      <td>NaN</td>\n",
              "      <td>Japan</td>\n",
              "      <td>2020-01-25</td>\n",
              "      <td>NaN</td>\n",
              "      <td>NaN</td>\n",
              "      <td>NaN</td>\n",
              "      <td>2</td>\n",
              "      <td>NaN</td>\n",
              "      <td>NaN</td>\n",
              "      <td>NaN</td>\n",
              "      <td>NaN</td>\n",
              "      <td>NaN</td>\n",
              "      <td>NaN</td>\n",
              "    </tr>\n",
              "    <tr>\n",
              "      <th>4</th>\n",
              "      <td>NaN</td>\n",
              "      <td>Japan</td>\n",
              "      <td>2020-01-26</td>\n",
              "      <td>NaN</td>\n",
              "      <td>NaN</td>\n",
              "      <td>NaN</td>\n",
              "      <td>4</td>\n",
              "      <td>NaN</td>\n",
              "      <td>1.0</td>\n",
              "      <td>NaN</td>\n",
              "      <td>NaN</td>\n",
              "      <td>NaN</td>\n",
              "      <td>NaN</td>\n",
              "    </tr>\n",
              "  </tbody>\n",
              "</table>\n",
              "</div>\n",
              "      <button class=\"colab-df-convert\" onclick=\"convertToInteractive('df-b343f017-c5b9-4181-8d0b-9cb081929465')\"\n",
              "              title=\"Convert this dataframe to an interactive table.\"\n",
              "              style=\"display:none;\">\n",
              "        \n",
              "  <svg xmlns=\"http://www.w3.org/2000/svg\" height=\"24px\"viewBox=\"0 0 24 24\"\n",
              "       width=\"24px\">\n",
              "    <path d=\"M0 0h24v24H0V0z\" fill=\"none\"/>\n",
              "    <path d=\"M18.56 5.44l.94 2.06.94-2.06 2.06-.94-2.06-.94-.94-2.06-.94 2.06-2.06.94zm-11 1L8.5 8.5l.94-2.06 2.06-.94-2.06-.94L8.5 2.5l-.94 2.06-2.06.94zm10 10l.94 2.06.94-2.06 2.06-.94-2.06-.94-.94-2.06-.94 2.06-2.06.94z\"/><path d=\"M17.41 7.96l-1.37-1.37c-.4-.4-.92-.59-1.43-.59-.52 0-1.04.2-1.43.59L10.3 9.45l-7.72 7.72c-.78.78-.78 2.05 0 2.83L4 21.41c.39.39.9.59 1.41.59.51 0 1.02-.2 1.41-.59l7.78-7.78 2.81-2.81c.8-.78.8-2.07 0-2.86zM5.41 20L4 18.59l7.72-7.72 1.47 1.35L5.41 20z\"/>\n",
              "  </svg>\n",
              "      </button>\n",
              "      \n",
              "  <style>\n",
              "    .colab-df-container {\n",
              "      display:flex;\n",
              "      flex-wrap:wrap;\n",
              "      gap: 12px;\n",
              "    }\n",
              "\n",
              "    .colab-df-convert {\n",
              "      background-color: #E8F0FE;\n",
              "      border: none;\n",
              "      border-radius: 50%;\n",
              "      cursor: pointer;\n",
              "      display: none;\n",
              "      fill: #1967D2;\n",
              "      height: 32px;\n",
              "      padding: 0 0 0 0;\n",
              "      width: 32px;\n",
              "    }\n",
              "\n",
              "    .colab-df-convert:hover {\n",
              "      background-color: #E2EBFA;\n",
              "      box-shadow: 0px 1px 2px rgba(60, 64, 67, 0.3), 0px 1px 3px 1px rgba(60, 64, 67, 0.15);\n",
              "      fill: #174EA6;\n",
              "    }\n",
              "\n",
              "    [theme=dark] .colab-df-convert {\n",
              "      background-color: #3B4455;\n",
              "      fill: #D2E3FC;\n",
              "    }\n",
              "\n",
              "    [theme=dark] .colab-df-convert:hover {\n",
              "      background-color: #434B5C;\n",
              "      box-shadow: 0px 1px 3px 1px rgba(0, 0, 0, 0.15);\n",
              "      filter: drop-shadow(0px 1px 2px rgba(0, 0, 0, 0.3));\n",
              "      fill: #FFFFFF;\n",
              "    }\n",
              "  </style>\n",
              "\n",
              "      <script>\n",
              "        const buttonEl =\n",
              "          document.querySelector('#df-b343f017-c5b9-4181-8d0b-9cb081929465 button.colab-df-convert');\n",
              "        buttonEl.style.display =\n",
              "          google.colab.kernel.accessAllowed ? 'block' : 'none';\n",
              "\n",
              "        async function convertToInteractive(key) {\n",
              "          const element = document.querySelector('#df-b343f017-c5b9-4181-8d0b-9cb081929465');\n",
              "          const dataTable =\n",
              "            await google.colab.kernel.invokeFunction('convertToInteractive',\n",
              "                                                     [key], {});\n",
              "          if (!dataTable) return;\n",
              "\n",
              "          const docLinkHtml = 'Like what you see? Visit the ' +\n",
              "            '<a target=\"_blank\" href=https://colab.research.google.com/notebooks/data_table.ipynb>data table notebook</a>'\n",
              "            + ' to learn more about interactive tables.';\n",
              "          element.innerHTML = '';\n",
              "          dataTable['output_type'] = 'display_data';\n",
              "          await google.colab.output.renderOutput(dataTable, element);\n",
              "          const docLink = document.createElement('div');\n",
              "          docLink.innerHTML = docLinkHtml;\n",
              "          element.appendChild(docLink);\n",
              "        }\n",
              "      </script>\n",
              "    </div>\n",
              "  </div>\n",
              "  "
            ],
            "text/plain": [
              "  province_state country_region        date  latitude  longitude  \\\n",
              "0            NaN          Japan  2020-01-22       NaN        NaN   \n",
              "1            NaN          Japan  2020-01-23       NaN        NaN   \n",
              "2            NaN          Japan  2020-01-24       NaN        NaN   \n",
              "3            NaN          Japan  2020-01-25       NaN        NaN   \n",
              "4            NaN          Japan  2020-01-26       NaN        NaN   \n",
              "\n",
              "  location_geom  confirmed  deaths  recovered  active  fips  admin2  \\\n",
              "0           NaN          2     NaN        NaN     NaN   NaN     NaN   \n",
              "1           NaN          1     NaN        NaN     NaN   NaN     NaN   \n",
              "2           NaN          2     NaN        NaN     NaN   NaN     NaN   \n",
              "3           NaN          2     NaN        NaN     NaN   NaN     NaN   \n",
              "4           NaN          4     NaN        1.0     NaN   NaN     NaN   \n",
              "\n",
              "  combined_key  \n",
              "0          NaN  \n",
              "1          NaN  \n",
              "2          NaN  \n",
              "3          NaN  \n",
              "4          NaN  "
            ]
          },
          "execution_count": 5,
          "metadata": {},
          "output_type": "execute_result"
        }
      ],
      "source": [
        "# Mengecek head dari dataframe\n",
        "df.head()"
      ]
    },
    {
      "cell_type": "code",
      "execution_count": 6,
      "metadata": {
        "colab": {
          "base_uri": "https://localhost:8080/",
          "height": 357
        },
        "id": "EUPQZWfFfZax",
        "outputId": "1ea64254-3a7b-418d-c5a6-5109b8275776"
      },
      "outputs": [
        {
          "data": {
            "text/html": [
              "\n",
              "  <div id=\"df-f146107e-9958-4308-9f82-10136aecee52\">\n",
              "    <div class=\"colab-df-container\">\n",
              "      <div>\n",
              "<style scoped>\n",
              "    .dataframe tbody tr th:only-of-type {\n",
              "        vertical-align: middle;\n",
              "    }\n",
              "\n",
              "    .dataframe tbody tr th {\n",
              "        vertical-align: top;\n",
              "    }\n",
              "\n",
              "    .dataframe thead th {\n",
              "        text-align: right;\n",
              "    }\n",
              "</style>\n",
              "<table border=\"1\" class=\"dataframe\">\n",
              "  <thead>\n",
              "    <tr style=\"text-align: right;\">\n",
              "      <th></th>\n",
              "      <th>province_state</th>\n",
              "      <th>country_region</th>\n",
              "      <th>date</th>\n",
              "      <th>latitude</th>\n",
              "      <th>longitude</th>\n",
              "      <th>location_geom</th>\n",
              "      <th>confirmed</th>\n",
              "      <th>deaths</th>\n",
              "      <th>recovered</th>\n",
              "      <th>active</th>\n",
              "      <th>fips</th>\n",
              "      <th>admin2</th>\n",
              "      <th>combined_key</th>\n",
              "    </tr>\n",
              "  </thead>\n",
              "  <tbody>\n",
              "    <tr>\n",
              "      <th>39614</th>\n",
              "      <td>Unknown</td>\n",
              "      <td>Japan</td>\n",
              "      <td>2022-08-12</td>\n",
              "      <td>NaN</td>\n",
              "      <td>NaN</td>\n",
              "      <td>NaN</td>\n",
              "      <td>8</td>\n",
              "      <td>0.0</td>\n",
              "      <td>NaN</td>\n",
              "      <td>NaN</td>\n",
              "      <td>NaN</td>\n",
              "      <td>NaN</td>\n",
              "      <td>Unknown, Japan</td>\n",
              "    </tr>\n",
              "    <tr>\n",
              "      <th>39615</th>\n",
              "      <td>Wakayama</td>\n",
              "      <td>Japan</td>\n",
              "      <td>2022-08-12</td>\n",
              "      <td>33.911879</td>\n",
              "      <td>135.505446</td>\n",
              "      <td>POINT(135.505446 33.911879)</td>\n",
              "      <td>85362</td>\n",
              "      <td>165.0</td>\n",
              "      <td>NaN</td>\n",
              "      <td>NaN</td>\n",
              "      <td>NaN</td>\n",
              "      <td>NaN</td>\n",
              "      <td>Wakayama, Japan</td>\n",
              "    </tr>\n",
              "    <tr>\n",
              "      <th>39616</th>\n",
              "      <td>Yamagata</td>\n",
              "      <td>Japan</td>\n",
              "      <td>2022-08-12</td>\n",
              "      <td>38.448396</td>\n",
              "      <td>140.102154</td>\n",
              "      <td>POINT(140.102154 38.448396)</td>\n",
              "      <td>54348</td>\n",
              "      <td>113.0</td>\n",
              "      <td>NaN</td>\n",
              "      <td>NaN</td>\n",
              "      <td>NaN</td>\n",
              "      <td>NaN</td>\n",
              "      <td>Yamagata, Japan</td>\n",
              "    </tr>\n",
              "    <tr>\n",
              "      <th>39617</th>\n",
              "      <td>Yamaguchi</td>\n",
              "      <td>Japan</td>\n",
              "      <td>2022-08-12</td>\n",
              "      <td>34.201190</td>\n",
              "      <td>131.573293</td>\n",
              "      <td>POINT(131.573293 34.20119)</td>\n",
              "      <td>94647</td>\n",
              "      <td>224.0</td>\n",
              "      <td>NaN</td>\n",
              "      <td>NaN</td>\n",
              "      <td>NaN</td>\n",
              "      <td>NaN</td>\n",
              "      <td>Yamaguchi, Japan</td>\n",
              "    </tr>\n",
              "    <tr>\n",
              "      <th>39618</th>\n",
              "      <td>Yamanashi</td>\n",
              "      <td>Japan</td>\n",
              "      <td>2022-08-12</td>\n",
              "      <td>35.612364</td>\n",
              "      <td>138.611489</td>\n",
              "      <td>POINT(138.611489 35.612364)</td>\n",
              "      <td>64108</td>\n",
              "      <td>90.0</td>\n",
              "      <td>NaN</td>\n",
              "      <td>NaN</td>\n",
              "      <td>NaN</td>\n",
              "      <td>NaN</td>\n",
              "      <td>Yamanashi, Japan</td>\n",
              "    </tr>\n",
              "  </tbody>\n",
              "</table>\n",
              "</div>\n",
              "      <button class=\"colab-df-convert\" onclick=\"convertToInteractive('df-f146107e-9958-4308-9f82-10136aecee52')\"\n",
              "              title=\"Convert this dataframe to an interactive table.\"\n",
              "              style=\"display:none;\">\n",
              "        \n",
              "  <svg xmlns=\"http://www.w3.org/2000/svg\" height=\"24px\"viewBox=\"0 0 24 24\"\n",
              "       width=\"24px\">\n",
              "    <path d=\"M0 0h24v24H0V0z\" fill=\"none\"/>\n",
              "    <path d=\"M18.56 5.44l.94 2.06.94-2.06 2.06-.94-2.06-.94-.94-2.06-.94 2.06-2.06.94zm-11 1L8.5 8.5l.94-2.06 2.06-.94-2.06-.94L8.5 2.5l-.94 2.06-2.06.94zm10 10l.94 2.06.94-2.06 2.06-.94-2.06-.94-.94-2.06-.94 2.06-2.06.94z\"/><path d=\"M17.41 7.96l-1.37-1.37c-.4-.4-.92-.59-1.43-.59-.52 0-1.04.2-1.43.59L10.3 9.45l-7.72 7.72c-.78.78-.78 2.05 0 2.83L4 21.41c.39.39.9.59 1.41.59.51 0 1.02-.2 1.41-.59l7.78-7.78 2.81-2.81c.8-.78.8-2.07 0-2.86zM5.41 20L4 18.59l7.72-7.72 1.47 1.35L5.41 20z\"/>\n",
              "  </svg>\n",
              "      </button>\n",
              "      \n",
              "  <style>\n",
              "    .colab-df-container {\n",
              "      display:flex;\n",
              "      flex-wrap:wrap;\n",
              "      gap: 12px;\n",
              "    }\n",
              "\n",
              "    .colab-df-convert {\n",
              "      background-color: #E8F0FE;\n",
              "      border: none;\n",
              "      border-radius: 50%;\n",
              "      cursor: pointer;\n",
              "      display: none;\n",
              "      fill: #1967D2;\n",
              "      height: 32px;\n",
              "      padding: 0 0 0 0;\n",
              "      width: 32px;\n",
              "    }\n",
              "\n",
              "    .colab-df-convert:hover {\n",
              "      background-color: #E2EBFA;\n",
              "      box-shadow: 0px 1px 2px rgba(60, 64, 67, 0.3), 0px 1px 3px 1px rgba(60, 64, 67, 0.15);\n",
              "      fill: #174EA6;\n",
              "    }\n",
              "\n",
              "    [theme=dark] .colab-df-convert {\n",
              "      background-color: #3B4455;\n",
              "      fill: #D2E3FC;\n",
              "    }\n",
              "\n",
              "    [theme=dark] .colab-df-convert:hover {\n",
              "      background-color: #434B5C;\n",
              "      box-shadow: 0px 1px 3px 1px rgba(0, 0, 0, 0.15);\n",
              "      filter: drop-shadow(0px 1px 2px rgba(0, 0, 0, 0.3));\n",
              "      fill: #FFFFFF;\n",
              "    }\n",
              "  </style>\n",
              "\n",
              "      <script>\n",
              "        const buttonEl =\n",
              "          document.querySelector('#df-f146107e-9958-4308-9f82-10136aecee52 button.colab-df-convert');\n",
              "        buttonEl.style.display =\n",
              "          google.colab.kernel.accessAllowed ? 'block' : 'none';\n",
              "\n",
              "        async function convertToInteractive(key) {\n",
              "          const element = document.querySelector('#df-f146107e-9958-4308-9f82-10136aecee52');\n",
              "          const dataTable =\n",
              "            await google.colab.kernel.invokeFunction('convertToInteractive',\n",
              "                                                     [key], {});\n",
              "          if (!dataTable) return;\n",
              "\n",
              "          const docLinkHtml = 'Like what you see? Visit the ' +\n",
              "            '<a target=\"_blank\" href=https://colab.research.google.com/notebooks/data_table.ipynb>data table notebook</a>'\n",
              "            + ' to learn more about interactive tables.';\n",
              "          element.innerHTML = '';\n",
              "          dataTable['output_type'] = 'display_data';\n",
              "          await google.colab.output.renderOutput(dataTable, element);\n",
              "          const docLink = document.createElement('div');\n",
              "          docLink.innerHTML = docLinkHtml;\n",
              "          element.appendChild(docLink);\n",
              "        }\n",
              "      </script>\n",
              "    </div>\n",
              "  </div>\n",
              "  "
            ],
            "text/plain": [
              "      province_state country_region        date   latitude   longitude  \\\n",
              "39614        Unknown          Japan  2022-08-12        NaN         NaN   \n",
              "39615       Wakayama          Japan  2022-08-12  33.911879  135.505446   \n",
              "39616       Yamagata          Japan  2022-08-12  38.448396  140.102154   \n",
              "39617      Yamaguchi          Japan  2022-08-12  34.201190  131.573293   \n",
              "39618      Yamanashi          Japan  2022-08-12  35.612364  138.611489   \n",
              "\n",
              "                     location_geom  confirmed  deaths  recovered  active  \\\n",
              "39614                          NaN          8     0.0        NaN     NaN   \n",
              "39615  POINT(135.505446 33.911879)      85362   165.0        NaN     NaN   \n",
              "39616  POINT(140.102154 38.448396)      54348   113.0        NaN     NaN   \n",
              "39617   POINT(131.573293 34.20119)      94647   224.0        NaN     NaN   \n",
              "39618  POINT(138.611489 35.612364)      64108    90.0        NaN     NaN   \n",
              "\n",
              "       fips  admin2      combined_key  \n",
              "39614   NaN     NaN    Unknown, Japan  \n",
              "39615   NaN     NaN   Wakayama, Japan  \n",
              "39616   NaN     NaN   Yamagata, Japan  \n",
              "39617   NaN     NaN  Yamaguchi, Japan  \n",
              "39618   NaN     NaN  Yamanashi, Japan  "
            ]
          },
          "execution_count": 6,
          "metadata": {},
          "output_type": "execute_result"
        }
      ],
      "source": [
        "# Mengecek tail dari dataframe\n",
        "df.tail()"
      ]
    },
    {
      "cell_type": "markdown",
      "metadata": {},
      "source": [
        "Dilihat dari head dan tail ternyata terdapat banyak missing values pada data kita."
      ]
    },
    {
      "cell_type": "code",
      "execution_count": 7,
      "metadata": {
        "colab": {
          "base_uri": "https://localhost:8080/"
        },
        "id": "NsCeRRh9hI-f",
        "outputId": "bdf84950-429a-4c40-9b78-3c6755a2a4e6"
      },
      "outputs": [
        {
          "name": "stdout",
          "output_type": "stream",
          "text": [
            "<class 'pandas.core.frame.DataFrame'>\n",
            "RangeIndex: 39619 entries, 0 to 39618\n",
            "Data columns (total 13 columns):\n",
            " #   Column          Non-Null Count  Dtype  \n",
            "---  ------          --------------  -----  \n",
            " 0   province_state  39492 non-null  object \n",
            " 1   country_region  39619 non-null  object \n",
            " 2   date            39619 non-null  object \n",
            " 3   latitude        37966 non-null  float64\n",
            " 4   longitude       37966 non-null  float64\n",
            " 5   location_geom   37966 non-null  object \n",
            " 6   confirmed       39619 non-null  int64  \n",
            " 7   deaths          39609 non-null  float64\n",
            " 8   recovered       21338 non-null  float64\n",
            " 9   active          21247 non-null  float64\n",
            " 10  fips            0 non-null      float64\n",
            " 11  admin2          0 non-null      float64\n",
            " 12  combined_key    39559 non-null  object \n",
            "dtypes: float64(7), int64(1), object(5)\n",
            "memory usage: 3.9+ MB\n"
          ]
        }
      ],
      "source": [
        "df.info()"
      ]
    },
    {
      "cell_type": "markdown",
      "metadata": {},
      "source": [
        "Dari informasi di atas kita bisa melihat bahwa data kita memiliki 13 kolom dimana ada 5 kolom bertipe object/string dan 8 kolom bertipe numerical."
      ]
    },
    {
      "cell_type": "markdown",
      "metadata": {
        "id": "uL3v4UQdgXtl"
      },
      "source": [
        "# iv. Data Cleaning"
      ]
    },
    {
      "cell_type": "code",
      "execution_count": 8,
      "metadata": {
        "colab": {
          "base_uri": "https://localhost:8080/"
        },
        "id": "3HgF_8vsgcaZ",
        "outputId": "18fc688b-955a-496d-ccca-4398a97507c0"
      },
      "outputs": [
        {
          "data": {
            "text/plain": [
              "province_state      127\n",
              "country_region        0\n",
              "date                  0\n",
              "latitude           1653\n",
              "longitude          1653\n",
              "location_geom      1653\n",
              "confirmed             0\n",
              "deaths               10\n",
              "recovered         18281\n",
              "active            18372\n",
              "fips              39619\n",
              "admin2            39619\n",
              "combined_key         60\n",
              "dtype: int64"
            ]
          },
          "execution_count": 8,
          "metadata": {},
          "output_type": "execute_result"
        }
      ],
      "source": [
        "# Mengecek jumlah missing values tiap kolom\n",
        "df.isnull().sum()"
      ]
    },
    {
      "cell_type": "markdown",
      "metadata": {},
      "source": [
        "Data kita ternyata memiliki banyak missing values yang harus kita handle. Terutama kita akan menghapus kolom `fips` dan `admin2` dimana kedua kolom tersebut tidak memiliki data sama sekali."
      ]
    },
    {
      "cell_type": "code",
      "execution_count": 9,
      "metadata": {
        "colab": {
          "base_uri": "https://localhost:8080/"
        },
        "id": "799bqHh1nA4n",
        "outputId": "a5aafbbd-978a-43cf-860f-7e3dd0330203"
      },
      "outputs": [
        {
          "data": {
            "text/plain": [
              "province_state      127\n",
              "country_region        0\n",
              "date                  0\n",
              "latitude           1653\n",
              "longitude          1653\n",
              "location_geom      1653\n",
              "confirmed             0\n",
              "deaths               10\n",
              "recovered         18281\n",
              "active            18372\n",
              "combined_key         60\n",
              "dtype: int64"
            ]
          },
          "execution_count": 9,
          "metadata": {},
          "output_type": "execute_result"
        }
      ],
      "source": [
        "# Menghapus kolom fips dan admin2 karena tidak memiliki satupun data\n",
        "df.drop(['fips', 'admin2'], axis=1, inplace = True)\n",
        "df.isnull().sum()"
      ]
    },
    {
      "cell_type": "markdown",
      "metadata": {
        "id": "r0bSr4ATymzQ"
      },
      "source": [
        "Karena kita akan menganalisa data penyebaran berdasarkan kota, maka kita harus memastikan bahwa tidak ada missing values pada kolom kota dan mengecek isi kolom kota(`province_state`)"
      ]
    },
    {
      "cell_type": "code",
      "execution_count": 10,
      "metadata": {
        "colab": {
          "base_uri": "https://localhost:8080/"
        },
        "id": "ia9pnh3YriuL",
        "outputId": "757f5806-c8ab-45ac-b8d5-fcffadf63606"
      },
      "outputs": [
        {
          "data": {
            "text/plain": [
              "province_state        0\n",
              "country_region        0\n",
              "date                  0\n",
              "latitude           1614\n",
              "longitude          1614\n",
              "location_geom      1614\n",
              "confirmed             0\n",
              "deaths                0\n",
              "recovered         18277\n",
              "active            18312\n",
              "combined_key          0\n",
              "dtype: int64"
            ]
          },
          "execution_count": 10,
          "metadata": {},
          "output_type": "execute_result"
        }
      ],
      "source": [
        "# Menghapus baris yang memiliki missing values pada province_state\n",
        "df.dropna(subset = ['province_state'], inplace = True)\n",
        "df.isnull().sum()"
      ]
    },
    {
      "cell_type": "markdown",
      "metadata": {},
      "source": [
        "Sekarang sudah tidak ada lagi missing values pada kolom `province_state`."
      ]
    },
    {
      "cell_type": "code",
      "execution_count": 11,
      "metadata": {
        "colab": {
          "base_uri": "https://localhost:8080/"
        },
        "id": "QW6vAOy32eVU",
        "outputId": "cb3a23b3-c4b7-4cab-c308-0e9d6864b302"
      },
      "outputs": [
        {
          "data": {
            "text/plain": [
              "province_state        0\n",
              "country_region        0\n",
              "date                  0\n",
              "latitude              0\n",
              "longitude             0\n",
              "location_geom      1614\n",
              "confirmed             0\n",
              "deaths                0\n",
              "recovered         18277\n",
              "active            18312\n",
              "combined_key          0\n",
              "dtype: int64"
            ]
          },
          "execution_count": 11,
          "metadata": {},
          "output_type": "execute_result"
        }
      ],
      "source": [
        "median_lat = df['latitude'].median()\n",
        "median_long = df['longitude'].median()\n",
        "df['latitude'].fillna(median_lat, inplace=True)\n",
        "df['longitude'].fillna(median_long, inplace=True)\n",
        "df.isnull().sum()"
      ]
    },
    {
      "cell_type": "markdown",
      "metadata": {},
      "source": [
        "Untuk `latitude` dan `longitude` yang berisi data numerik sudah kita ganti missing values dengan nilai mediannya."
      ]
    },
    {
      "cell_type": "code",
      "execution_count": 12,
      "metadata": {
        "colab": {
          "base_uri": "https://localhost:8080/"
        },
        "id": "EKfcGVFU3zo_",
        "outputId": "6691507e-d358-43bb-87ff-ca0d7dcf60c1"
      },
      "outputs": [
        {
          "data": {
            "text/plain": [
              "province_state        0\n",
              "country_region        0\n",
              "date                  0\n",
              "latitude              0\n",
              "longitude             0\n",
              "location_geom         0\n",
              "confirmed             0\n",
              "deaths                0\n",
              "recovered         18277\n",
              "active            18312\n",
              "combined_key          0\n",
              "dtype: int64"
            ]
          },
          "execution_count": 12,
          "metadata": {},
          "output_type": "execute_result"
        }
      ],
      "source": [
        "df['location_geom'].fillna('unknown', inplace=True)\n",
        "df.isnull().sum()"
      ]
    },
    {
      "cell_type": "markdown",
      "metadata": {},
      "source": [
        "Untuk `location_geom` yang memiliki tipe data object juga sudah kita ganti missing valuesnya dengan unknown."
      ]
    },
    {
      "cell_type": "code",
      "execution_count": 13,
      "metadata": {
        "colab": {
          "base_uri": "https://localhost:8080/"
        },
        "id": "QipVj3QL4ubg",
        "outputId": "392f79fd-cfd1-44ae-9e47-be760ad82159"
      },
      "outputs": [
        {
          "data": {
            "text/plain": [
              "0"
            ]
          },
          "execution_count": 13,
          "metadata": {},
          "output_type": "execute_result"
        }
      ],
      "source": [
        "df['recovered'].fillna(0, inplace=True)\n",
        "df['active'].fillna(0, inplace=True)\n",
        "df.isnull().sum().sum()"
      ]
    },
    {
      "cell_type": "markdown",
      "metadata": {
        "id": "GQPA27D95fBa"
      },
      "source": [
        "Untuk `recovered` dan `active` yang berisi data numerik sudah kita ganti dengan angka 0. Karena sudah tidak ada missing values maka kita bisa mulai mengeksplorasi data yang ada"
      ]
    },
    {
      "cell_type": "markdown",
      "metadata": {
        "id": "jq8_fiLVgkbb"
      },
      "source": [
        "# v. Eksplorasi Data"
      ]
    },
    {
      "cell_type": "markdown",
      "metadata": {
        "id": "vbwN0qf36FVB"
      },
      "source": [
        "Setelah membersihkan missing values kita bisa mulai mengeksplorasi data. Kita bisa mulai dari melihat jumlah data tiap kota"
      ]
    },
    {
      "cell_type": "markdown",
      "metadata": {},
      "source": [
        "Kita akan mengganti nama kolom 'province_state' menjadi 'city' dan 'country_region' menjadi 'country' agar mudah dibaca"
      ]
    },
    {
      "cell_type": "code",
      "execution_count": 14,
      "metadata": {
        "colab": {
          "base_uri": "https://localhost:8080/"
        },
        "id": "kswApeWL6spM",
        "outputId": "32ecde2a-4c94-4f7c-c4e3-a3b2d7a339bb"
      },
      "outputs": [
        {
          "data": {
            "text/plain": [
              "['city',\n",
              " 'country',\n",
              " 'date',\n",
              " 'latitude',\n",
              " 'longitude',\n",
              " 'location_geom',\n",
              " 'confirmed',\n",
              " 'deaths',\n",
              " 'recovered',\n",
              " 'active',\n",
              " 'combined_key']"
            ]
          },
          "execution_count": 14,
          "metadata": {},
          "output_type": "execute_result"
        }
      ],
      "source": [
        "df.rename(columns = {'province_state' : 'city', 'country_region' : 'country'}, inplace = True)\n",
        "list(df)"
      ]
    },
    {
      "cell_type": "code",
      "execution_count": 15,
      "metadata": {
        "colab": {
          "base_uri": "https://localhost:8080/"
        },
        "id": "Ls4cpQ2OzArh",
        "outputId": "a9a2555c-8012-46f6-eeea-008198186751"
      },
      "outputs": [
        {
          "data": {
            "text/plain": [
              "Aichi              807\n",
              "Akita              807\n",
              "Aomori             807\n",
              "Chiba              807\n",
              "Ehime              807\n",
              "Fukui              807\n",
              "Fukuoka            807\n",
              "Fukushima          807\n",
              "Gifu               807\n",
              "Gunma              807\n",
              "Hiroshima          807\n",
              "Hokkaido           807\n",
              "Hyogo              807\n",
              "Ibaraki            807\n",
              "Ishikawa           807\n",
              "Iwate              756\n",
              "Kagawa             807\n",
              "Kagoshima          807\n",
              "Kanagawa           807\n",
              "Kochi              807\n",
              "Kumamoto           807\n",
              "Kyoto              807\n",
              "Mie                807\n",
              "Miyagi             807\n",
              "Miyazaki           807\n",
              "Nagano             807\n",
              "Nagasaki           807\n",
              "Nara               807\n",
              "Niigata            807\n",
              "Oita               807\n",
              "Okayama            807\n",
              "Okinawa            807\n",
              "Osaka              807\n",
              "Port Quarantine    807\n",
              "Saga               807\n",
              "Saitama            807\n",
              "Shiga              807\n",
              "Shimane            807\n",
              "Shizuoka           807\n",
              "Tochigi            807\n",
              "Tokushima          807\n",
              "Tokyo              807\n",
              "Tottori            807\n",
              "Toyama             807\n",
              "Unknown            807\n",
              "Wakayama           807\n",
              "Yamagata           807\n",
              "Yamaguchi          807\n",
              "Yamanashi          807\n",
              "Name: city, dtype: int64"
            ]
          },
          "execution_count": 15,
          "metadata": {},
          "output_type": "execute_result"
        }
      ],
      "source": [
        "df['city'].value_counts().sort_index()"
      ]
    },
    {
      "cell_type": "markdown",
      "metadata": {
        "id": "wr7ZSganzFXy"
      },
      "source": [
        "Pada data diatas ada nama kota Port Quarantine dimana itu adalah data covid-19 pada orang-orang yang dikarantina di kapal atau pelabuhan. "
      ]
    },
    {
      "cell_type": "markdown",
      "metadata": {
        "id": "j4PaQGA58CKz"
      },
      "source": [
        "Kita bisa mencari total kasus tertinggi di Jepang"
      ]
    },
    {
      "cell_type": "code",
      "execution_count": 16,
      "metadata": {
        "colab": {
          "base_uri": "https://localhost:8080/"
        },
        "id": "BtQGhRkN8NHl",
        "outputId": "4601fc3a-a651-453d-f2f8-39c59565c824"
      },
      "outputs": [
        {
          "data": {
            "text/plain": [
              "2521752"
            ]
          },
          "execution_count": 16,
          "metadata": {},
          "output_type": "execute_result"
        }
      ],
      "source": [
        "df['confirmed'].max()"
      ]
    },
    {
      "cell_type": "markdown",
      "metadata": {},
      "source": [
        "Ternyata kasus tertinggi di Jepang dalam sehari adalah 2521752."
      ]
    },
    {
      "cell_type": "markdown",
      "metadata": {
        "id": "cZjL6yOW9ess"
      },
      "source": [
        "Kita coba mencari rata-rata jumlah kematian di Jepang pada kasus covid-19"
      ]
    },
    {
      "cell_type": "code",
      "execution_count": 17,
      "metadata": {
        "colab": {
          "base_uri": "https://localhost:8080/"
        },
        "id": "qSWLc6Qg9eDi",
        "outputId": "2ce9d5d5-9bd5-4d32-e50c-b9fb6052fdfa"
      },
      "outputs": [
        {
          "data": {
            "text/plain": [
              "284.30401093892436"
            ]
          },
          "execution_count": 17,
          "metadata": {},
          "output_type": "execute_result"
        }
      ],
      "source": [
        "df['deaths'].mean()"
      ]
    },
    {
      "cell_type": "markdown",
      "metadata": {},
      "source": [
        "Rata-rata kematian karna covid di Jepang adalah 284 kematian sehari."
      ]
    },
    {
      "cell_type": "markdown",
      "metadata": {
        "id": "j8rcdtXT-zkP"
      },
      "source": [
        "Kita juga bisa mencari data kematian tertinggi tiap kota di Jepang"
      ]
    },
    {
      "cell_type": "code",
      "execution_count": 18,
      "metadata": {
        "colab": {
          "base_uri": "https://localhost:8080/"
        },
        "id": "evoxj2NA--Q7",
        "outputId": "ef2549e6-52d2-4b67-946d-29eaaeb706a7"
      },
      "outputs": [
        {
          "data": {
            "text/plain": [
              "city\n",
              "Aichi              2310.0\n",
              "Akita                83.0\n",
              "Aomori              154.0\n",
              "Chiba              2000.0\n",
              "Ehime               187.0\n",
              "Fukui                60.0\n",
              "Fukuoka            1466.0\n",
              "Fukushima           235.0\n",
              "Gifu                397.0\n",
              "Gunma               367.0\n",
              "Hiroshima           548.0\n",
              "Hokkaido           2225.0\n",
              "Hyogo              2422.0\n",
              "Ibaraki             507.0\n",
              "Ishikawa            209.0\n",
              "Iwate               125.0\n",
              "Kagawa              185.0\n",
              "Kagoshima           284.0\n",
              "Kanagawa           2472.0\n",
              "Kochi               150.0\n",
              "Kumamoto            433.0\n",
              "Kyoto               794.0\n",
              "Mie                 375.0\n",
              "Miyagi              240.0\n",
              "Miyazaki            209.0\n",
              "Nagano              227.0\n",
              "Nagasaki            167.0\n",
              "Nara                429.0\n",
              "Niigata             103.0\n",
              "Oita                208.0\n",
              "Okayama             293.0\n",
              "Okinawa             537.0\n",
              "Osaka              5584.0\n",
              "Port Quarantine       4.0\n",
              "Saga                156.0\n",
              "Saitama            1790.0\n",
              "Shiga               252.0\n",
              "Shimane              58.0\n",
              "Shizuoka            522.0\n",
              "Tochigi             333.0\n",
              "Tokushima            96.0\n",
              "Tokyo              4856.0\n",
              "Tottori              32.0\n",
              "Toyama              113.0\n",
              "Unknown               0.0\n",
              "Wakayama            165.0\n",
              "Yamagata            113.0\n",
              "Yamaguchi           224.0\n",
              "Yamanashi            90.0\n",
              "Name: deaths, dtype: float64"
            ]
          },
          "execution_count": 18,
          "metadata": {},
          "output_type": "execute_result"
        }
      ],
      "source": [
        "df.groupby('city')['deaths'].max()"
      ]
    },
    {
      "cell_type": "markdown",
      "metadata": {
        "id": "sWAs_wfSB22O"
      },
      "source": [
        "Melihat kota yang jumlah kematiannya di atas rata-rata kota lain"
      ]
    },
    {
      "cell_type": "code",
      "execution_count": 19,
      "metadata": {
        "colab": {
          "base_uri": "https://localhost:8080/"
        },
        "id": "sUUkakqKB8mt",
        "outputId": "4e4ff4f7-6147-4ebc-bad2-4f6096152afa"
      },
      "outputs": [
        {
          "name": "stdout",
          "output_type": "stream",
          "text": [
            "Rata-rata kematian =  284\n"
          ]
        },
        {
          "data": {
            "text/plain": [
              "city\n",
              "Aichi        2310.0\n",
              "Chiba        2000.0\n",
              "Fukuoka      1466.0\n",
              "Gifu          397.0\n",
              "Gunma         367.0\n",
              "Hiroshima     548.0\n",
              "Hokkaido     2225.0\n",
              "Hyogo        2422.0\n",
              "Ibaraki       507.0\n",
              "Kanagawa     2472.0\n",
              "Kumamoto      433.0\n",
              "Kyoto         794.0\n",
              "Mie           375.0\n",
              "Nara          429.0\n",
              "Okayama       293.0\n",
              "Okinawa       537.0\n",
              "Osaka        5584.0\n",
              "Saitama      1790.0\n",
              "Shizuoka      522.0\n",
              "Tochigi       333.0\n",
              "Tokyo        4856.0\n",
              "Name: deaths, dtype: float64"
            ]
          },
          "execution_count": 19,
          "metadata": {},
          "output_type": "execute_result"
        }
      ],
      "source": [
        "death_mean = df['deaths'].mean()\n",
        "print(f'Rata-rata kematian = ' , round(death_mean))\n",
        "df_filter = df['deaths']>death_mean\n",
        "filtered_df = df[df_filter]\n",
        "filtered_df.groupby('city')['deaths'].max()"
      ]
    },
    {
      "cell_type": "markdown",
      "metadata": {
        "id": "3bPskjJJGT8H"
      },
      "source": [
        "Kita bisa melihat data dengan index tertentu"
      ]
    },
    {
      "cell_type": "code",
      "execution_count": 20,
      "metadata": {
        "colab": {
          "base_uri": "https://localhost:8080/",
          "height": 394
        },
        "id": "yjbnGR9ZGj9K",
        "outputId": "2a5f3bd7-32f0-4539-d58e-3253ea65c147"
      },
      "outputs": [
        {
          "data": {
            "text/html": [
              "\n",
              "  <div id=\"df-b4f5985a-530d-48a0-a536-bd884a8847b5\">\n",
              "    <div class=\"colab-df-container\">\n",
              "      <div>\n",
              "<style scoped>\n",
              "    .dataframe tbody tr th:only-of-type {\n",
              "        vertical-align: middle;\n",
              "    }\n",
              "\n",
              "    .dataframe tbody tr th {\n",
              "        vertical-align: top;\n",
              "    }\n",
              "\n",
              "    .dataframe thead th {\n",
              "        text-align: right;\n",
              "    }\n",
              "</style>\n",
              "<table border=\"1\" class=\"dataframe\">\n",
              "  <thead>\n",
              "    <tr style=\"text-align: right;\">\n",
              "      <th></th>\n",
              "      <th>city</th>\n",
              "      <th>date</th>\n",
              "      <th>confirmed</th>\n",
              "      <th>deaths</th>\n",
              "    </tr>\n",
              "  </thead>\n",
              "  <tbody>\n",
              "    <tr>\n",
              "      <th>10000</th>\n",
              "      <td>Nagasaki</td>\n",
              "      <td>2020-12-16</td>\n",
              "      <td>345</td>\n",
              "      <td>3.0</td>\n",
              "    </tr>\n",
              "    <tr>\n",
              "      <th>10001</th>\n",
              "      <td>Nara</td>\n",
              "      <td>2020-12-16</td>\n",
              "      <td>1530</td>\n",
              "      <td>14.0</td>\n",
              "    </tr>\n",
              "    <tr>\n",
              "      <th>10002</th>\n",
              "      <td>Niigata</td>\n",
              "      <td>2020-12-16</td>\n",
              "      <td>418</td>\n",
              "      <td>3.0</td>\n",
              "    </tr>\n",
              "    <tr>\n",
              "      <th>10003</th>\n",
              "      <td>Oita</td>\n",
              "      <td>2020-12-16</td>\n",
              "      <td>543</td>\n",
              "      <td>3.0</td>\n",
              "    </tr>\n",
              "    <tr>\n",
              "      <th>10004</th>\n",
              "      <td>Okayama</td>\n",
              "      <td>2020-12-16</td>\n",
              "      <td>873</td>\n",
              "      <td>12.0</td>\n",
              "    </tr>\n",
              "    <tr>\n",
              "      <th>10005</th>\n",
              "      <td>Okinawa</td>\n",
              "      <td>2020-12-16</td>\n",
              "      <td>4886</td>\n",
              "      <td>80.0</td>\n",
              "    </tr>\n",
              "    <tr>\n",
              "      <th>10006</th>\n",
              "      <td>Osaka</td>\n",
              "      <td>2020-12-16</td>\n",
              "      <td>25817</td>\n",
              "      <td>384.0</td>\n",
              "    </tr>\n",
              "    <tr>\n",
              "      <th>10007</th>\n",
              "      <td>Port Quarantine</td>\n",
              "      <td>2020-12-16</td>\n",
              "      <td>1709</td>\n",
              "      <td>1.0</td>\n",
              "    </tr>\n",
              "    <tr>\n",
              "      <th>10008</th>\n",
              "      <td>Saga</td>\n",
              "      <td>2020-12-16</td>\n",
              "      <td>397</td>\n",
              "      <td>3.0</td>\n",
              "    </tr>\n",
              "    <tr>\n",
              "      <th>10009</th>\n",
              "      <td>Saitama</td>\n",
              "      <td>2020-12-16</td>\n",
              "      <td>10909</td>\n",
              "      <td>171.0</td>\n",
              "    </tr>\n",
              "    <tr>\n",
              "      <th>10010</th>\n",
              "      <td>Shiga</td>\n",
              "      <td>2020-12-16</td>\n",
              "      <td>886</td>\n",
              "      <td>11.0</td>\n",
              "    </tr>\n",
              "  </tbody>\n",
              "</table>\n",
              "</div>\n",
              "      <button class=\"colab-df-convert\" onclick=\"convertToInteractive('df-b4f5985a-530d-48a0-a536-bd884a8847b5')\"\n",
              "              title=\"Convert this dataframe to an interactive table.\"\n",
              "              style=\"display:none;\">\n",
              "        \n",
              "  <svg xmlns=\"http://www.w3.org/2000/svg\" height=\"24px\"viewBox=\"0 0 24 24\"\n",
              "       width=\"24px\">\n",
              "    <path d=\"M0 0h24v24H0V0z\" fill=\"none\"/>\n",
              "    <path d=\"M18.56 5.44l.94 2.06.94-2.06 2.06-.94-2.06-.94-.94-2.06-.94 2.06-2.06.94zm-11 1L8.5 8.5l.94-2.06 2.06-.94-2.06-.94L8.5 2.5l-.94 2.06-2.06.94zm10 10l.94 2.06.94-2.06 2.06-.94-2.06-.94-.94-2.06-.94 2.06-2.06.94z\"/><path d=\"M17.41 7.96l-1.37-1.37c-.4-.4-.92-.59-1.43-.59-.52 0-1.04.2-1.43.59L10.3 9.45l-7.72 7.72c-.78.78-.78 2.05 0 2.83L4 21.41c.39.39.9.59 1.41.59.51 0 1.02-.2 1.41-.59l7.78-7.78 2.81-2.81c.8-.78.8-2.07 0-2.86zM5.41 20L4 18.59l7.72-7.72 1.47 1.35L5.41 20z\"/>\n",
              "  </svg>\n",
              "      </button>\n",
              "      \n",
              "  <style>\n",
              "    .colab-df-container {\n",
              "      display:flex;\n",
              "      flex-wrap:wrap;\n",
              "      gap: 12px;\n",
              "    }\n",
              "\n",
              "    .colab-df-convert {\n",
              "      background-color: #E8F0FE;\n",
              "      border: none;\n",
              "      border-radius: 50%;\n",
              "      cursor: pointer;\n",
              "      display: none;\n",
              "      fill: #1967D2;\n",
              "      height: 32px;\n",
              "      padding: 0 0 0 0;\n",
              "      width: 32px;\n",
              "    }\n",
              "\n",
              "    .colab-df-convert:hover {\n",
              "      background-color: #E2EBFA;\n",
              "      box-shadow: 0px 1px 2px rgba(60, 64, 67, 0.3), 0px 1px 3px 1px rgba(60, 64, 67, 0.15);\n",
              "      fill: #174EA6;\n",
              "    }\n",
              "\n",
              "    [theme=dark] .colab-df-convert {\n",
              "      background-color: #3B4455;\n",
              "      fill: #D2E3FC;\n",
              "    }\n",
              "\n",
              "    [theme=dark] .colab-df-convert:hover {\n",
              "      background-color: #434B5C;\n",
              "      box-shadow: 0px 1px 3px 1px rgba(0, 0, 0, 0.15);\n",
              "      filter: drop-shadow(0px 1px 2px rgba(0, 0, 0, 0.3));\n",
              "      fill: #FFFFFF;\n",
              "    }\n",
              "  </style>\n",
              "\n",
              "      <script>\n",
              "        const buttonEl =\n",
              "          document.querySelector('#df-b4f5985a-530d-48a0-a536-bd884a8847b5 button.colab-df-convert');\n",
              "        buttonEl.style.display =\n",
              "          google.colab.kernel.accessAllowed ? 'block' : 'none';\n",
              "\n",
              "        async function convertToInteractive(key) {\n",
              "          const element = document.querySelector('#df-b4f5985a-530d-48a0-a536-bd884a8847b5');\n",
              "          const dataTable =\n",
              "            await google.colab.kernel.invokeFunction('convertToInteractive',\n",
              "                                                     [key], {});\n",
              "          if (!dataTable) return;\n",
              "\n",
              "          const docLinkHtml = 'Like what you see? Visit the ' +\n",
              "            '<a target=\"_blank\" href=https://colab.research.google.com/notebooks/data_table.ipynb>data table notebook</a>'\n",
              "            + ' to learn more about interactive tables.';\n",
              "          element.innerHTML = '';\n",
              "          dataTable['output_type'] = 'display_data';\n",
              "          await google.colab.output.renderOutput(dataTable, element);\n",
              "          const docLink = document.createElement('div');\n",
              "          docLink.innerHTML = docLinkHtml;\n",
              "          element.appendChild(docLink);\n",
              "        }\n",
              "      </script>\n",
              "    </div>\n",
              "  </div>\n",
              "  "
            ],
            "text/plain": [
              "                  city        date  confirmed  deaths\n",
              "10000         Nagasaki  2020-12-16        345     3.0\n",
              "10001             Nara  2020-12-16       1530    14.0\n",
              "10002          Niigata  2020-12-16        418     3.0\n",
              "10003             Oita  2020-12-16        543     3.0\n",
              "10004          Okayama  2020-12-16        873    12.0\n",
              "10005          Okinawa  2020-12-16       4886    80.0\n",
              "10006            Osaka  2020-12-16      25817   384.0\n",
              "10007  Port Quarantine  2020-12-16       1709     1.0\n",
              "10008             Saga  2020-12-16        397     3.0\n",
              "10009          Saitama  2020-12-16      10909   171.0\n",
              "10010            Shiga  2020-12-16        886    11.0"
            ]
          },
          "execution_count": 20,
          "metadata": {},
          "output_type": "execute_result"
        }
      ],
      "source": [
        "df.loc[10000:10010, ['city', 'date', 'confirmed', 'deaths']]"
      ]
    },
    {
      "cell_type": "markdown",
      "metadata": {
        "id": "WsYwhxjbHw0u"
      },
      "source": [
        "Kita juga bisa mencari data dengan tanggal tertentu"
      ]
    },
    {
      "cell_type": "code",
      "execution_count": 21,
      "metadata": {
        "colab": {
          "base_uri": "https://localhost:8080/",
          "height": 1000
        },
        "id": "z0CVjKOuHG4D",
        "outputId": "66878e6d-b6fe-4982-a538-ff3c9fe4677b"
      },
      "outputs": [
        {
          "data": {
            "text/html": [
              "\n",
              "  <div id=\"df-00de68c5-bac1-4acc-8788-1617259fb81e\">\n",
              "    <div class=\"colab-df-container\">\n",
              "      <div>\n",
              "<style scoped>\n",
              "    .dataframe tbody tr th:only-of-type {\n",
              "        vertical-align: middle;\n",
              "    }\n",
              "\n",
              "    .dataframe tbody tr th {\n",
              "        vertical-align: top;\n",
              "    }\n",
              "\n",
              "    .dataframe thead th {\n",
              "        text-align: right;\n",
              "    }\n",
              "</style>\n",
              "<table border=\"1\" class=\"dataframe\">\n",
              "  <thead>\n",
              "    <tr style=\"text-align: right;\">\n",
              "      <th></th>\n",
              "      <th>city</th>\n",
              "      <th>country</th>\n",
              "      <th>date</th>\n",
              "      <th>latitude</th>\n",
              "      <th>longitude</th>\n",
              "      <th>location_geom</th>\n",
              "      <th>confirmed</th>\n",
              "      <th>deaths</th>\n",
              "      <th>recovered</th>\n",
              "      <th>active</th>\n",
              "      <th>combined_key</th>\n",
              "    </tr>\n",
              "  </thead>\n",
              "  <tbody>\n",
              "    <tr>\n",
              "      <th>4780</th>\n",
              "      <td>Aichi</td>\n",
              "      <td>Japan</td>\n",
              "      <td>2020-09-01</td>\n",
              "      <td>35.035551</td>\n",
              "      <td>137.211621</td>\n",
              "      <td>POINT(137.211621 35.035551)</td>\n",
              "      <td>4564</td>\n",
              "      <td>68.0</td>\n",
              "      <td>3706.0</td>\n",
              "      <td>790.0</td>\n",
              "      <td>Aichi, Japan</td>\n",
              "    </tr>\n",
              "    <tr>\n",
              "      <th>4781</th>\n",
              "      <td>Akita</td>\n",
              "      <td>Japan</td>\n",
              "      <td>2020-09-01</td>\n",
              "      <td>39.748679</td>\n",
              "      <td>140.408228</td>\n",
              "      <td>POINT(140.408228 39.748679)</td>\n",
              "      <td>49</td>\n",
              "      <td>0.0</td>\n",
              "      <td>43.0</td>\n",
              "      <td>6.0</td>\n",
              "      <td>Akita, Japan</td>\n",
              "    </tr>\n",
              "    <tr>\n",
              "      <th>4782</th>\n",
              "      <td>Aomori</td>\n",
              "      <td>Japan</td>\n",
              "      <td>2020-09-01</td>\n",
              "      <td>40.781541</td>\n",
              "      <td>140.828896</td>\n",
              "      <td>POINT(140.828896 40.781541)</td>\n",
              "      <td>38</td>\n",
              "      <td>1.0</td>\n",
              "      <td>32.0</td>\n",
              "      <td>5.0</td>\n",
              "      <td>Aomori, Japan</td>\n",
              "    </tr>\n",
              "    <tr>\n",
              "      <th>4783</th>\n",
              "      <td>Chiba</td>\n",
              "      <td>Japan</td>\n",
              "      <td>2020-09-01</td>\n",
              "      <td>35.510141</td>\n",
              "      <td>140.198917</td>\n",
              "      <td>POINT(140.198917 35.510141)</td>\n",
              "      <td>3067</td>\n",
              "      <td>62.0</td>\n",
              "      <td>2568.0</td>\n",
              "      <td>437.0</td>\n",
              "      <td>Chiba, Japan</td>\n",
              "    </tr>\n",
              "    <tr>\n",
              "      <th>4784</th>\n",
              "      <td>Ehime</td>\n",
              "      <td>Japan</td>\n",
              "      <td>2020-09-01</td>\n",
              "      <td>33.624835</td>\n",
              "      <td>132.856842</td>\n",
              "      <td>POINT(132.856842 33.624835)</td>\n",
              "      <td>114</td>\n",
              "      <td>6.0</td>\n",
              "      <td>106.0</td>\n",
              "      <td>2.0</td>\n",
              "      <td>Ehime, Japan</td>\n",
              "    </tr>\n",
              "    <tr>\n",
              "      <th>4785</th>\n",
              "      <td>Fukui</td>\n",
              "      <td>Japan</td>\n",
              "      <td>2020-09-01</td>\n",
              "      <td>35.846614</td>\n",
              "      <td>136.224654</td>\n",
              "      <td>POINT(136.224654 35.846614)</td>\n",
              "      <td>232</td>\n",
              "      <td>8.0</td>\n",
              "      <td>152.0</td>\n",
              "      <td>72.0</td>\n",
              "      <td>Fukui, Japan</td>\n",
              "    </tr>\n",
              "    <tr>\n",
              "      <th>4786</th>\n",
              "      <td>Fukuoka</td>\n",
              "      <td>Japan</td>\n",
              "      <td>2020-09-01</td>\n",
              "      <td>33.526032</td>\n",
              "      <td>130.666949</td>\n",
              "      <td>POINT(130.666949 33.526032)</td>\n",
              "      <td>4638</td>\n",
              "      <td>62.0</td>\n",
              "      <td>3604.0</td>\n",
              "      <td>972.0</td>\n",
              "      <td>Fukuoka, Japan</td>\n",
              "    </tr>\n",
              "    <tr>\n",
              "      <th>4787</th>\n",
              "      <td>Fukushima</td>\n",
              "      <td>Japan</td>\n",
              "      <td>2020-09-01</td>\n",
              "      <td>37.378867</td>\n",
              "      <td>140.223295</td>\n",
              "      <td>POINT(140.223295 37.378867)</td>\n",
              "      <td>167</td>\n",
              "      <td>0.0</td>\n",
              "      <td>106.0</td>\n",
              "      <td>61.0</td>\n",
              "      <td>Fukushima, Japan</td>\n",
              "    </tr>\n",
              "    <tr>\n",
              "      <th>4788</th>\n",
              "      <td>Gifu</td>\n",
              "      <td>Japan</td>\n",
              "      <td>2020-09-01</td>\n",
              "      <td>35.778671</td>\n",
              "      <td>137.055925</td>\n",
              "      <td>POINT(137.055925 35.778671)</td>\n",
              "      <td>558</td>\n",
              "      <td>10.0</td>\n",
              "      <td>519.0</td>\n",
              "      <td>29.0</td>\n",
              "      <td>Gifu, Japan</td>\n",
              "    </tr>\n",
              "    <tr>\n",
              "      <th>4789</th>\n",
              "      <td>Gunma</td>\n",
              "      <td>Japan</td>\n",
              "      <td>2020-09-01</td>\n",
              "      <td>36.504479</td>\n",
              "      <td>138.985605</td>\n",
              "      <td>POINT(138.985605 36.504479)</td>\n",
              "      <td>445</td>\n",
              "      <td>19.0</td>\n",
              "      <td>338.0</td>\n",
              "      <td>88.0</td>\n",
              "      <td>Gunma, Japan</td>\n",
              "    </tr>\n",
              "    <tr>\n",
              "      <th>4790</th>\n",
              "      <td>Hiroshima</td>\n",
              "      <td>Japan</td>\n",
              "      <td>2020-09-01</td>\n",
              "      <td>34.605309</td>\n",
              "      <td>132.788719</td>\n",
              "      <td>POINT(132.788719 34.605309)</td>\n",
              "      <td>455</td>\n",
              "      <td>3.0</td>\n",
              "      <td>439.0</td>\n",
              "      <td>13.0</td>\n",
              "      <td>Hiroshima, Japan</td>\n",
              "    </tr>\n",
              "    <tr>\n",
              "      <th>4791</th>\n",
              "      <td>Hokkaido</td>\n",
              "      <td>Japan</td>\n",
              "      <td>2020-09-01</td>\n",
              "      <td>43.385711</td>\n",
              "      <td>142.552318</td>\n",
              "      <td>POINT(142.552318 43.385711)</td>\n",
              "      <td>1786</td>\n",
              "      <td>103.0</td>\n",
              "      <td>1540.0</td>\n",
              "      <td>143.0</td>\n",
              "      <td>Hokkaido, Japan</td>\n",
              "    </tr>\n",
              "    <tr>\n",
              "      <th>4792</th>\n",
              "      <td>Hyogo</td>\n",
              "      <td>Japan</td>\n",
              "      <td>2020-09-01</td>\n",
              "      <td>35.039913</td>\n",
              "      <td>134.828057</td>\n",
              "      <td>POINT(134.828057 35.039913)</td>\n",
              "      <td>2300</td>\n",
              "      <td>53.0</td>\n",
              "      <td>2039.0</td>\n",
              "      <td>208.0</td>\n",
              "      <td>Hyogo, Japan</td>\n",
              "    </tr>\n",
              "    <tr>\n",
              "      <th>4793</th>\n",
              "      <td>Ibaraki</td>\n",
              "      <td>Japan</td>\n",
              "      <td>2020-09-01</td>\n",
              "      <td>36.303588</td>\n",
              "      <td>140.319591</td>\n",
              "      <td>POINT(140.319591 36.303588)</td>\n",
              "      <td>549</td>\n",
              "      <td>13.0</td>\n",
              "      <td>467.0</td>\n",
              "      <td>69.0</td>\n",
              "      <td>Ibaraki, Japan</td>\n",
              "    </tr>\n",
              "    <tr>\n",
              "      <th>4794</th>\n",
              "      <td>Ishikawa</td>\n",
              "      <td>Japan</td>\n",
              "      <td>2020-09-01</td>\n",
              "      <td>36.769464</td>\n",
              "      <td>136.771027</td>\n",
              "      <td>POINT(136.771027 36.769464)</td>\n",
              "      <td>653</td>\n",
              "      <td>33.0</td>\n",
              "      <td>464.0</td>\n",
              "      <td>156.0</td>\n",
              "      <td>Ishikawa, Japan</td>\n",
              "    </tr>\n",
              "    <tr>\n",
              "      <th>4795</th>\n",
              "      <td>Iwate</td>\n",
              "      <td>Japan</td>\n",
              "      <td>2020-09-01</td>\n",
              "      <td>39.593287</td>\n",
              "      <td>141.361777</td>\n",
              "      <td>POINT(141.361777 39.593287)</td>\n",
              "      <td>22</td>\n",
              "      <td>0.0</td>\n",
              "      <td>8.0</td>\n",
              "      <td>14.0</td>\n",
              "      <td>Iwate, Japan</td>\n",
              "    </tr>\n",
              "    <tr>\n",
              "      <th>4796</th>\n",
              "      <td>Kagawa</td>\n",
              "      <td>Japan</td>\n",
              "      <td>2020-09-01</td>\n",
              "      <td>34.217292</td>\n",
              "      <td>133.969047</td>\n",
              "      <td>POINT(133.969047 34.217292)</td>\n",
              "      <td>79</td>\n",
              "      <td>1.0</td>\n",
              "      <td>69.0</td>\n",
              "      <td>9.0</td>\n",
              "      <td>Kagawa, Japan</td>\n",
              "    </tr>\n",
              "    <tr>\n",
              "      <th>4797</th>\n",
              "      <td>Kagoshima</td>\n",
              "      <td>Japan</td>\n",
              "      <td>2020-09-01</td>\n",
              "      <td>31.009484</td>\n",
              "      <td>130.430665</td>\n",
              "      <td>POINT(130.430665 31.009484)</td>\n",
              "      <td>363</td>\n",
              "      <td>11.0</td>\n",
              "      <td>297.0</td>\n",
              "      <td>55.0</td>\n",
              "      <td>Kagoshima, Japan</td>\n",
              "    </tr>\n",
              "    <tr>\n",
              "      <th>4798</th>\n",
              "      <td>Kanagawa</td>\n",
              "      <td>Japan</td>\n",
              "      <td>2020-09-01</td>\n",
              "      <td>35.415312</td>\n",
              "      <td>139.338983</td>\n",
              "      <td>POINT(139.338983 35.415312)</td>\n",
              "      <td>5023</td>\n",
              "      <td>124.0</td>\n",
              "      <td>4390.0</td>\n",
              "      <td>509.0</td>\n",
              "      <td>Kanagawa, Japan</td>\n",
              "    </tr>\n",
              "    <tr>\n",
              "      <th>4799</th>\n",
              "      <td>Kochi</td>\n",
              "      <td>Japan</td>\n",
              "      <td>2020-09-01</td>\n",
              "      <td>33.422519</td>\n",
              "      <td>133.367307</td>\n",
              "      <td>POINT(133.367307 33.422519)</td>\n",
              "      <td>128</td>\n",
              "      <td>3.0</td>\n",
              "      <td>103.0</td>\n",
              "      <td>22.0</td>\n",
              "      <td>Kochi, Japan</td>\n",
              "    </tr>\n",
              "    <tr>\n",
              "      <th>4800</th>\n",
              "      <td>Kumamoto</td>\n",
              "      <td>Japan</td>\n",
              "      <td>2020-09-01</td>\n",
              "      <td>32.608154</td>\n",
              "      <td>130.745231</td>\n",
              "      <td>POINT(130.745231 32.608154)</td>\n",
              "      <td>523</td>\n",
              "      <td>7.0</td>\n",
              "      <td>422.0</td>\n",
              "      <td>94.0</td>\n",
              "      <td>Kumamoto, Japan</td>\n",
              "    </tr>\n",
              "    <tr>\n",
              "      <th>4801</th>\n",
              "      <td>Kyoto</td>\n",
              "      <td>Japan</td>\n",
              "      <td>2020-09-01</td>\n",
              "      <td>35.253815</td>\n",
              "      <td>135.443341</td>\n",
              "      <td>POINT(135.443341 35.253815)</td>\n",
              "      <td>1474</td>\n",
              "      <td>23.0</td>\n",
              "      <td>1242.0</td>\n",
              "      <td>209.0</td>\n",
              "      <td>Kyoto, Japan</td>\n",
              "    </tr>\n",
              "    <tr>\n",
              "      <th>4802</th>\n",
              "      <td>Mie</td>\n",
              "      <td>Japan</td>\n",
              "      <td>2020-09-01</td>\n",
              "      <td>34.508018</td>\n",
              "      <td>136.376013</td>\n",
              "      <td>POINT(136.376013 34.508018)</td>\n",
              "      <td>379</td>\n",
              "      <td>2.0</td>\n",
              "      <td>301.0</td>\n",
              "      <td>76.0</td>\n",
              "      <td>Mie, Japan</td>\n",
              "    </tr>\n",
              "    <tr>\n",
              "      <th>4803</th>\n",
              "      <td>Miyagi</td>\n",
              "      <td>Japan</td>\n",
              "      <td>2020-09-01</td>\n",
              "      <td>38.446859</td>\n",
              "      <td>140.927086</td>\n",
              "      <td>POINT(140.927086 38.446859)</td>\n",
              "      <td>210</td>\n",
              "      <td>2.0</td>\n",
              "      <td>190.0</td>\n",
              "      <td>18.0</td>\n",
              "      <td>Miyagi, Japan</td>\n",
              "    </tr>\n",
              "    <tr>\n",
              "      <th>4804</th>\n",
              "      <td>Miyazaki</td>\n",
              "      <td>Japan</td>\n",
              "      <td>2020-09-01</td>\n",
              "      <td>32.193204</td>\n",
              "      <td>131.299374</td>\n",
              "      <td>POINT(131.299374 32.193204)</td>\n",
              "      <td>359</td>\n",
              "      <td>1.0</td>\n",
              "      <td>301.0</td>\n",
              "      <td>57.0</td>\n",
              "      <td>Miyazaki, Japan</td>\n",
              "    </tr>\n",
              "    <tr>\n",
              "      <th>4805</th>\n",
              "      <td>Nagano</td>\n",
              "      <td>Japan</td>\n",
              "      <td>2020-09-01</td>\n",
              "      <td>36.132134</td>\n",
              "      <td>138.045528</td>\n",
              "      <td>POINT(138.045528 36.132134)</td>\n",
              "      <td>260</td>\n",
              "      <td>1.0</td>\n",
              "      <td>170.0</td>\n",
              "      <td>89.0</td>\n",
              "      <td>Nagano, Japan</td>\n",
              "    </tr>\n",
              "    <tr>\n",
              "      <th>4806</th>\n",
              "      <td>Nagasaki</td>\n",
              "      <td>Japan</td>\n",
              "      <td>2020-09-01</td>\n",
              "      <td>33.235712</td>\n",
              "      <td>129.608033</td>\n",
              "      <td>POINT(129.608033 33.235712)</td>\n",
              "      <td>232</td>\n",
              "      <td>3.0</td>\n",
              "      <td>184.0</td>\n",
              "      <td>45.0</td>\n",
              "      <td>Nagasaki, Japan</td>\n",
              "    </tr>\n",
              "    <tr>\n",
              "      <th>4807</th>\n",
              "      <td>Nara</td>\n",
              "      <td>Japan</td>\n",
              "      <td>2020-09-01</td>\n",
              "      <td>34.317451</td>\n",
              "      <td>135.871644</td>\n",
              "      <td>POINT(135.871644 34.317451)</td>\n",
              "      <td>523</td>\n",
              "      <td>6.0</td>\n",
              "      <td>455.0</td>\n",
              "      <td>62.0</td>\n",
              "      <td>Nara, Japan</td>\n",
              "    </tr>\n",
              "    <tr>\n",
              "      <th>4808</th>\n",
              "      <td>Niigata</td>\n",
              "      <td>Japan</td>\n",
              "      <td>2020-09-01</td>\n",
              "      <td>37.521819</td>\n",
              "      <td>138.918647</td>\n",
              "      <td>POINT(138.918647 37.521819)</td>\n",
              "      <td>144</td>\n",
              "      <td>0.0</td>\n",
              "      <td>136.0</td>\n",
              "      <td>8.0</td>\n",
              "      <td>Niigata, Japan</td>\n",
              "    </tr>\n",
              "    <tr>\n",
              "      <th>4809</th>\n",
              "      <td>Oita</td>\n",
              "      <td>Japan</td>\n",
              "      <td>2020-09-01</td>\n",
              "      <td>33.200697</td>\n",
              "      <td>131.433240</td>\n",
              "      <td>POINT(131.43324 33.200697)</td>\n",
              "      <td>147</td>\n",
              "      <td>2.0</td>\n",
              "      <td>129.0</td>\n",
              "      <td>16.0</td>\n",
              "      <td>Oita, Japan</td>\n",
              "    </tr>\n",
              "    <tr>\n",
              "      <th>4810</th>\n",
              "      <td>Okayama</td>\n",
              "      <td>Japan</td>\n",
              "      <td>2020-09-01</td>\n",
              "      <td>34.892460</td>\n",
              "      <td>133.826252</td>\n",
              "      <td>POINT(133.826252 34.89246)</td>\n",
              "      <td>145</td>\n",
              "      <td>1.0</td>\n",
              "      <td>128.0</td>\n",
              "      <td>16.0</td>\n",
              "      <td>Okayama, Japan</td>\n",
              "    </tr>\n",
              "    <tr>\n",
              "      <th>4811</th>\n",
              "      <td>Okinawa</td>\n",
              "      <td>Japan</td>\n",
              "      <td>2020-09-01</td>\n",
              "      <td>25.768923</td>\n",
              "      <td>126.668016</td>\n",
              "      <td>POINT(126.668016 25.768923)</td>\n",
              "      <td>2147</td>\n",
              "      <td>28.0</td>\n",
              "      <td>1685.0</td>\n",
              "      <td>434.0</td>\n",
              "      <td>Okinawa, Japan</td>\n",
              "    </tr>\n",
              "    <tr>\n",
              "      <th>4812</th>\n",
              "      <td>Osaka</td>\n",
              "      <td>Japan</td>\n",
              "      <td>2020-09-01</td>\n",
              "      <td>34.620965</td>\n",
              "      <td>135.507481</td>\n",
              "      <td>POINT(135.507481 34.620965)</td>\n",
              "      <td>8658</td>\n",
              "      <td>155.0</td>\n",
              "      <td>7181.0</td>\n",
              "      <td>1322.0</td>\n",
              "      <td>Osaka, Japan</td>\n",
              "    </tr>\n",
              "    <tr>\n",
              "      <th>4813</th>\n",
              "      <td>Port Quarantine</td>\n",
              "      <td>Japan</td>\n",
              "      <td>2020-09-01</td>\n",
              "      <td>35.215827</td>\n",
              "      <td>136.224654</td>\n",
              "      <td>unknown</td>\n",
              "      <td>797</td>\n",
              "      <td>1.0</td>\n",
              "      <td>514.0</td>\n",
              "      <td>282.0</td>\n",
              "      <td>Port Quarantine, Japan</td>\n",
              "    </tr>\n",
              "    <tr>\n",
              "      <th>4814</th>\n",
              "      <td>Saga</td>\n",
              "      <td>Japan</td>\n",
              "      <td>2020-09-01</td>\n",
              "      <td>33.286977</td>\n",
              "      <td>130.115738</td>\n",
              "      <td>POINT(130.115738 33.286977)</td>\n",
              "      <td>235</td>\n",
              "      <td>0.0</td>\n",
              "      <td>214.0</td>\n",
              "      <td>21.0</td>\n",
              "      <td>Saga, Japan</td>\n",
              "    </tr>\n",
              "    <tr>\n",
              "      <th>4815</th>\n",
              "      <td>Saitama</td>\n",
              "      <td>Japan</td>\n",
              "      <td>2020-09-01</td>\n",
              "      <td>35.997101</td>\n",
              "      <td>139.347635</td>\n",
              "      <td>POINT(139.347635 35.997101)</td>\n",
              "      <td>3978</td>\n",
              "      <td>90.0</td>\n",
              "      <td>3287.0</td>\n",
              "      <td>601.0</td>\n",
              "      <td>Saitama, Japan</td>\n",
              "    </tr>\n",
              "    <tr>\n",
              "      <th>4816</th>\n",
              "      <td>Shiga</td>\n",
              "      <td>Japan</td>\n",
              "      <td>2020-09-01</td>\n",
              "      <td>35.215827</td>\n",
              "      <td>136.138064</td>\n",
              "      <td>POINT(136.138064 35.215827)</td>\n",
              "      <td>452</td>\n",
              "      <td>6.0</td>\n",
              "      <td>354.0</td>\n",
              "      <td>92.0</td>\n",
              "      <td>Shiga, Japan</td>\n",
              "    </tr>\n",
              "    <tr>\n",
              "      <th>4817</th>\n",
              "      <td>Shimane</td>\n",
              "      <td>Japan</td>\n",
              "      <td>2020-09-01</td>\n",
              "      <td>35.070760</td>\n",
              "      <td>132.554064</td>\n",
              "      <td>POINT(132.554064 35.07076)</td>\n",
              "      <td>137</td>\n",
              "      <td>0.0</td>\n",
              "      <td>133.0</td>\n",
              "      <td>4.0</td>\n",
              "      <td>Shimane, Japan</td>\n",
              "    </tr>\n",
              "    <tr>\n",
              "      <th>4818</th>\n",
              "      <td>Shizuoka</td>\n",
              "      <td>Japan</td>\n",
              "      <td>2020-09-01</td>\n",
              "      <td>34.916975</td>\n",
              "      <td>138.407784</td>\n",
              "      <td>POINT(138.407784 34.916975)</td>\n",
              "      <td>482</td>\n",
              "      <td>1.0</td>\n",
              "      <td>432.0</td>\n",
              "      <td>49.0</td>\n",
              "      <td>Shizuoka, Japan</td>\n",
              "    </tr>\n",
              "    <tr>\n",
              "      <th>4819</th>\n",
              "      <td>Tochigi</td>\n",
              "      <td>Japan</td>\n",
              "      <td>2020-09-01</td>\n",
              "      <td>36.689912</td>\n",
              "      <td>139.819213</td>\n",
              "      <td>POINT(139.819213 36.689912)</td>\n",
              "      <td>306</td>\n",
              "      <td>1.0</td>\n",
              "      <td>277.0</td>\n",
              "      <td>28.0</td>\n",
              "      <td>Tochigi, Japan</td>\n",
              "    </tr>\n",
              "    <tr>\n",
              "      <th>4820</th>\n",
              "      <td>Tokushima</td>\n",
              "      <td>Japan</td>\n",
              "      <td>2020-09-01</td>\n",
              "      <td>33.919178</td>\n",
              "      <td>134.242091</td>\n",
              "      <td>POINT(134.242091 33.919178)</td>\n",
              "      <td>133</td>\n",
              "      <td>4.0</td>\n",
              "      <td>61.0</td>\n",
              "      <td>68.0</td>\n",
              "      <td>Tokushima, Japan</td>\n",
              "    </tr>\n",
              "    <tr>\n",
              "      <th>4821</th>\n",
              "      <td>Tokyo</td>\n",
              "      <td>Japan</td>\n",
              "      <td>2020-09-01</td>\n",
              "      <td>35.711343</td>\n",
              "      <td>139.446921</td>\n",
              "      <td>POINT(139.446921 35.711343)</td>\n",
              "      <td>20997</td>\n",
              "      <td>364.0</td>\n",
              "      <td>17859.0</td>\n",
              "      <td>2774.0</td>\n",
              "      <td>Tokyo, Japan</td>\n",
              "    </tr>\n",
              "    <tr>\n",
              "      <th>4822</th>\n",
              "      <td>Tottori</td>\n",
              "      <td>Japan</td>\n",
              "      <td>2020-09-01</td>\n",
              "      <td>35.359069</td>\n",
              "      <td>133.863619</td>\n",
              "      <td>POINT(133.863619 35.359069)</td>\n",
              "      <td>22</td>\n",
              "      <td>0.0</td>\n",
              "      <td>22.0</td>\n",
              "      <td>0.0</td>\n",
              "      <td>Tottori, Japan</td>\n",
              "    </tr>\n",
              "    <tr>\n",
              "      <th>4823</th>\n",
              "      <td>Toyama</td>\n",
              "      <td>Japan</td>\n",
              "      <td>2020-09-01</td>\n",
              "      <td>36.637464</td>\n",
              "      <td>137.269346</td>\n",
              "      <td>POINT(137.269346 36.637464)</td>\n",
              "      <td>394</td>\n",
              "      <td>25.0</td>\n",
              "      <td>295.0</td>\n",
              "      <td>74.0</td>\n",
              "      <td>Toyama, Japan</td>\n",
              "    </tr>\n",
              "    <tr>\n",
              "      <th>4824</th>\n",
              "      <td>Unknown</td>\n",
              "      <td>Japan</td>\n",
              "      <td>2020-09-01</td>\n",
              "      <td>35.215827</td>\n",
              "      <td>136.224654</td>\n",
              "      <td>unknown</td>\n",
              "      <td>8</td>\n",
              "      <td>0.0</td>\n",
              "      <td>8.0</td>\n",
              "      <td>0.0</td>\n",
              "      <td>Unknown, Japan</td>\n",
              "    </tr>\n",
              "    <tr>\n",
              "      <th>4825</th>\n",
              "      <td>Wakayama</td>\n",
              "      <td>Japan</td>\n",
              "      <td>2020-09-01</td>\n",
              "      <td>33.911879</td>\n",
              "      <td>135.505446</td>\n",
              "      <td>POINT(135.505446 33.911879)</td>\n",
              "      <td>230</td>\n",
              "      <td>5.0</td>\n",
              "      <td>216.0</td>\n",
              "      <td>9.0</td>\n",
              "      <td>Wakayama, Japan</td>\n",
              "    </tr>\n",
              "    <tr>\n",
              "      <th>4826</th>\n",
              "      <td>Yamagata</td>\n",
              "      <td>Japan</td>\n",
              "      <td>2020-09-01</td>\n",
              "      <td>38.448396</td>\n",
              "      <td>140.102154</td>\n",
              "      <td>POINT(140.102154 38.448396)</td>\n",
              "      <td>78</td>\n",
              "      <td>1.0</td>\n",
              "      <td>76.0</td>\n",
              "      <td>1.0</td>\n",
              "      <td>Yamagata, Japan</td>\n",
              "    </tr>\n",
              "    <tr>\n",
              "      <th>4827</th>\n",
              "      <td>Yamaguchi</td>\n",
              "      <td>Japan</td>\n",
              "      <td>2020-09-01</td>\n",
              "      <td>34.201190</td>\n",
              "      <td>131.573293</td>\n",
              "      <td>POINT(131.573293 34.20119)</td>\n",
              "      <td>170</td>\n",
              "      <td>0.0</td>\n",
              "      <td>89.0</td>\n",
              "      <td>81.0</td>\n",
              "      <td>Yamaguchi, Japan</td>\n",
              "    </tr>\n",
              "    <tr>\n",
              "      <th>4828</th>\n",
              "      <td>Yamanashi</td>\n",
              "      <td>Japan</td>\n",
              "      <td>2020-09-01</td>\n",
              "      <td>35.612364</td>\n",
              "      <td>138.611489</td>\n",
              "      <td>POINT(138.611489 35.612364)</td>\n",
              "      <td>173</td>\n",
              "      <td>4.0</td>\n",
              "      <td>152.0</td>\n",
              "      <td>17.0</td>\n",
              "      <td>Yamanashi, Japan</td>\n",
              "    </tr>\n",
              "  </tbody>\n",
              "</table>\n",
              "</div>\n",
              "      <button class=\"colab-df-convert\" onclick=\"convertToInteractive('df-00de68c5-bac1-4acc-8788-1617259fb81e')\"\n",
              "              title=\"Convert this dataframe to an interactive table.\"\n",
              "              style=\"display:none;\">\n",
              "        \n",
              "  <svg xmlns=\"http://www.w3.org/2000/svg\" height=\"24px\"viewBox=\"0 0 24 24\"\n",
              "       width=\"24px\">\n",
              "    <path d=\"M0 0h24v24H0V0z\" fill=\"none\"/>\n",
              "    <path d=\"M18.56 5.44l.94 2.06.94-2.06 2.06-.94-2.06-.94-.94-2.06-.94 2.06-2.06.94zm-11 1L8.5 8.5l.94-2.06 2.06-.94-2.06-.94L8.5 2.5l-.94 2.06-2.06.94zm10 10l.94 2.06.94-2.06 2.06-.94-2.06-.94-.94-2.06-.94 2.06-2.06.94z\"/><path d=\"M17.41 7.96l-1.37-1.37c-.4-.4-.92-.59-1.43-.59-.52 0-1.04.2-1.43.59L10.3 9.45l-7.72 7.72c-.78.78-.78 2.05 0 2.83L4 21.41c.39.39.9.59 1.41.59.51 0 1.02-.2 1.41-.59l7.78-7.78 2.81-2.81c.8-.78.8-2.07 0-2.86zM5.41 20L4 18.59l7.72-7.72 1.47 1.35L5.41 20z\"/>\n",
              "  </svg>\n",
              "      </button>\n",
              "      \n",
              "  <style>\n",
              "    .colab-df-container {\n",
              "      display:flex;\n",
              "      flex-wrap:wrap;\n",
              "      gap: 12px;\n",
              "    }\n",
              "\n",
              "    .colab-df-convert {\n",
              "      background-color: #E8F0FE;\n",
              "      border: none;\n",
              "      border-radius: 50%;\n",
              "      cursor: pointer;\n",
              "      display: none;\n",
              "      fill: #1967D2;\n",
              "      height: 32px;\n",
              "      padding: 0 0 0 0;\n",
              "      width: 32px;\n",
              "    }\n",
              "\n",
              "    .colab-df-convert:hover {\n",
              "      background-color: #E2EBFA;\n",
              "      box-shadow: 0px 1px 2px rgba(60, 64, 67, 0.3), 0px 1px 3px 1px rgba(60, 64, 67, 0.15);\n",
              "      fill: #174EA6;\n",
              "    }\n",
              "\n",
              "    [theme=dark] .colab-df-convert {\n",
              "      background-color: #3B4455;\n",
              "      fill: #D2E3FC;\n",
              "    }\n",
              "\n",
              "    [theme=dark] .colab-df-convert:hover {\n",
              "      background-color: #434B5C;\n",
              "      box-shadow: 0px 1px 3px 1px rgba(0, 0, 0, 0.15);\n",
              "      filter: drop-shadow(0px 1px 2px rgba(0, 0, 0, 0.3));\n",
              "      fill: #FFFFFF;\n",
              "    }\n",
              "  </style>\n",
              "\n",
              "      <script>\n",
              "        const buttonEl =\n",
              "          document.querySelector('#df-00de68c5-bac1-4acc-8788-1617259fb81e button.colab-df-convert');\n",
              "        buttonEl.style.display =\n",
              "          google.colab.kernel.accessAllowed ? 'block' : 'none';\n",
              "\n",
              "        async function convertToInteractive(key) {\n",
              "          const element = document.querySelector('#df-00de68c5-bac1-4acc-8788-1617259fb81e');\n",
              "          const dataTable =\n",
              "            await google.colab.kernel.invokeFunction('convertToInteractive',\n",
              "                                                     [key], {});\n",
              "          if (!dataTable) return;\n",
              "\n",
              "          const docLinkHtml = 'Like what you see? Visit the ' +\n",
              "            '<a target=\"_blank\" href=https://colab.research.google.com/notebooks/data_table.ipynb>data table notebook</a>'\n",
              "            + ' to learn more about interactive tables.';\n",
              "          element.innerHTML = '';\n",
              "          dataTable['output_type'] = 'display_data';\n",
              "          await google.colab.output.renderOutput(dataTable, element);\n",
              "          const docLink = document.createElement('div');\n",
              "          docLink.innerHTML = docLinkHtml;\n",
              "          element.appendChild(docLink);\n",
              "        }\n",
              "      </script>\n",
              "    </div>\n",
              "  </div>\n",
              "  "
            ],
            "text/plain": [
              "                 city country        date   latitude   longitude  \\\n",
              "4780            Aichi   Japan  2020-09-01  35.035551  137.211621   \n",
              "4781            Akita   Japan  2020-09-01  39.748679  140.408228   \n",
              "4782           Aomori   Japan  2020-09-01  40.781541  140.828896   \n",
              "4783            Chiba   Japan  2020-09-01  35.510141  140.198917   \n",
              "4784            Ehime   Japan  2020-09-01  33.624835  132.856842   \n",
              "4785            Fukui   Japan  2020-09-01  35.846614  136.224654   \n",
              "4786          Fukuoka   Japan  2020-09-01  33.526032  130.666949   \n",
              "4787        Fukushima   Japan  2020-09-01  37.378867  140.223295   \n",
              "4788             Gifu   Japan  2020-09-01  35.778671  137.055925   \n",
              "4789            Gunma   Japan  2020-09-01  36.504479  138.985605   \n",
              "4790        Hiroshima   Japan  2020-09-01  34.605309  132.788719   \n",
              "4791         Hokkaido   Japan  2020-09-01  43.385711  142.552318   \n",
              "4792            Hyogo   Japan  2020-09-01  35.039913  134.828057   \n",
              "4793          Ibaraki   Japan  2020-09-01  36.303588  140.319591   \n",
              "4794         Ishikawa   Japan  2020-09-01  36.769464  136.771027   \n",
              "4795            Iwate   Japan  2020-09-01  39.593287  141.361777   \n",
              "4796           Kagawa   Japan  2020-09-01  34.217292  133.969047   \n",
              "4797        Kagoshima   Japan  2020-09-01  31.009484  130.430665   \n",
              "4798         Kanagawa   Japan  2020-09-01  35.415312  139.338983   \n",
              "4799            Kochi   Japan  2020-09-01  33.422519  133.367307   \n",
              "4800         Kumamoto   Japan  2020-09-01  32.608154  130.745231   \n",
              "4801            Kyoto   Japan  2020-09-01  35.253815  135.443341   \n",
              "4802              Mie   Japan  2020-09-01  34.508018  136.376013   \n",
              "4803           Miyagi   Japan  2020-09-01  38.446859  140.927086   \n",
              "4804         Miyazaki   Japan  2020-09-01  32.193204  131.299374   \n",
              "4805           Nagano   Japan  2020-09-01  36.132134  138.045528   \n",
              "4806         Nagasaki   Japan  2020-09-01  33.235712  129.608033   \n",
              "4807             Nara   Japan  2020-09-01  34.317451  135.871644   \n",
              "4808          Niigata   Japan  2020-09-01  37.521819  138.918647   \n",
              "4809             Oita   Japan  2020-09-01  33.200697  131.433240   \n",
              "4810          Okayama   Japan  2020-09-01  34.892460  133.826252   \n",
              "4811          Okinawa   Japan  2020-09-01  25.768923  126.668016   \n",
              "4812            Osaka   Japan  2020-09-01  34.620965  135.507481   \n",
              "4813  Port Quarantine   Japan  2020-09-01  35.215827  136.224654   \n",
              "4814             Saga   Japan  2020-09-01  33.286977  130.115738   \n",
              "4815          Saitama   Japan  2020-09-01  35.997101  139.347635   \n",
              "4816            Shiga   Japan  2020-09-01  35.215827  136.138064   \n",
              "4817          Shimane   Japan  2020-09-01  35.070760  132.554064   \n",
              "4818         Shizuoka   Japan  2020-09-01  34.916975  138.407784   \n",
              "4819          Tochigi   Japan  2020-09-01  36.689912  139.819213   \n",
              "4820        Tokushima   Japan  2020-09-01  33.919178  134.242091   \n",
              "4821            Tokyo   Japan  2020-09-01  35.711343  139.446921   \n",
              "4822          Tottori   Japan  2020-09-01  35.359069  133.863619   \n",
              "4823           Toyama   Japan  2020-09-01  36.637464  137.269346   \n",
              "4824          Unknown   Japan  2020-09-01  35.215827  136.224654   \n",
              "4825         Wakayama   Japan  2020-09-01  33.911879  135.505446   \n",
              "4826         Yamagata   Japan  2020-09-01  38.448396  140.102154   \n",
              "4827        Yamaguchi   Japan  2020-09-01  34.201190  131.573293   \n",
              "4828        Yamanashi   Japan  2020-09-01  35.612364  138.611489   \n",
              "\n",
              "                    location_geom  confirmed  deaths  recovered  active  \\\n",
              "4780  POINT(137.211621 35.035551)       4564    68.0     3706.0   790.0   \n",
              "4781  POINT(140.408228 39.748679)         49     0.0       43.0     6.0   \n",
              "4782  POINT(140.828896 40.781541)         38     1.0       32.0     5.0   \n",
              "4783  POINT(140.198917 35.510141)       3067    62.0     2568.0   437.0   \n",
              "4784  POINT(132.856842 33.624835)        114     6.0      106.0     2.0   \n",
              "4785  POINT(136.224654 35.846614)        232     8.0      152.0    72.0   \n",
              "4786  POINT(130.666949 33.526032)       4638    62.0     3604.0   972.0   \n",
              "4787  POINT(140.223295 37.378867)        167     0.0      106.0    61.0   \n",
              "4788  POINT(137.055925 35.778671)        558    10.0      519.0    29.0   \n",
              "4789  POINT(138.985605 36.504479)        445    19.0      338.0    88.0   \n",
              "4790  POINT(132.788719 34.605309)        455     3.0      439.0    13.0   \n",
              "4791  POINT(142.552318 43.385711)       1786   103.0     1540.0   143.0   \n",
              "4792  POINT(134.828057 35.039913)       2300    53.0     2039.0   208.0   \n",
              "4793  POINT(140.319591 36.303588)        549    13.0      467.0    69.0   \n",
              "4794  POINT(136.771027 36.769464)        653    33.0      464.0   156.0   \n",
              "4795  POINT(141.361777 39.593287)         22     0.0        8.0    14.0   \n",
              "4796  POINT(133.969047 34.217292)         79     1.0       69.0     9.0   \n",
              "4797  POINT(130.430665 31.009484)        363    11.0      297.0    55.0   \n",
              "4798  POINT(139.338983 35.415312)       5023   124.0     4390.0   509.0   \n",
              "4799  POINT(133.367307 33.422519)        128     3.0      103.0    22.0   \n",
              "4800  POINT(130.745231 32.608154)        523     7.0      422.0    94.0   \n",
              "4801  POINT(135.443341 35.253815)       1474    23.0     1242.0   209.0   \n",
              "4802  POINT(136.376013 34.508018)        379     2.0      301.0    76.0   \n",
              "4803  POINT(140.927086 38.446859)        210     2.0      190.0    18.0   \n",
              "4804  POINT(131.299374 32.193204)        359     1.0      301.0    57.0   \n",
              "4805  POINT(138.045528 36.132134)        260     1.0      170.0    89.0   \n",
              "4806  POINT(129.608033 33.235712)        232     3.0      184.0    45.0   \n",
              "4807  POINT(135.871644 34.317451)        523     6.0      455.0    62.0   \n",
              "4808  POINT(138.918647 37.521819)        144     0.0      136.0     8.0   \n",
              "4809   POINT(131.43324 33.200697)        147     2.0      129.0    16.0   \n",
              "4810   POINT(133.826252 34.89246)        145     1.0      128.0    16.0   \n",
              "4811  POINT(126.668016 25.768923)       2147    28.0     1685.0   434.0   \n",
              "4812  POINT(135.507481 34.620965)       8658   155.0     7181.0  1322.0   \n",
              "4813                      unknown        797     1.0      514.0   282.0   \n",
              "4814  POINT(130.115738 33.286977)        235     0.0      214.0    21.0   \n",
              "4815  POINT(139.347635 35.997101)       3978    90.0     3287.0   601.0   \n",
              "4816  POINT(136.138064 35.215827)        452     6.0      354.0    92.0   \n",
              "4817   POINT(132.554064 35.07076)        137     0.0      133.0     4.0   \n",
              "4818  POINT(138.407784 34.916975)        482     1.0      432.0    49.0   \n",
              "4819  POINT(139.819213 36.689912)        306     1.0      277.0    28.0   \n",
              "4820  POINT(134.242091 33.919178)        133     4.0       61.0    68.0   \n",
              "4821  POINT(139.446921 35.711343)      20997   364.0    17859.0  2774.0   \n",
              "4822  POINT(133.863619 35.359069)         22     0.0       22.0     0.0   \n",
              "4823  POINT(137.269346 36.637464)        394    25.0      295.0    74.0   \n",
              "4824                      unknown          8     0.0        8.0     0.0   \n",
              "4825  POINT(135.505446 33.911879)        230     5.0      216.0     9.0   \n",
              "4826  POINT(140.102154 38.448396)         78     1.0       76.0     1.0   \n",
              "4827   POINT(131.573293 34.20119)        170     0.0       89.0    81.0   \n",
              "4828  POINT(138.611489 35.612364)        173     4.0      152.0    17.0   \n",
              "\n",
              "                combined_key  \n",
              "4780            Aichi, Japan  \n",
              "4781            Akita, Japan  \n",
              "4782           Aomori, Japan  \n",
              "4783            Chiba, Japan  \n",
              "4784            Ehime, Japan  \n",
              "4785            Fukui, Japan  \n",
              "4786          Fukuoka, Japan  \n",
              "4787        Fukushima, Japan  \n",
              "4788             Gifu, Japan  \n",
              "4789            Gunma, Japan  \n",
              "4790        Hiroshima, Japan  \n",
              "4791         Hokkaido, Japan  \n",
              "4792            Hyogo, Japan  \n",
              "4793          Ibaraki, Japan  \n",
              "4794         Ishikawa, Japan  \n",
              "4795            Iwate, Japan  \n",
              "4796           Kagawa, Japan  \n",
              "4797        Kagoshima, Japan  \n",
              "4798         Kanagawa, Japan  \n",
              "4799            Kochi, Japan  \n",
              "4800         Kumamoto, Japan  \n",
              "4801            Kyoto, Japan  \n",
              "4802              Mie, Japan  \n",
              "4803           Miyagi, Japan  \n",
              "4804         Miyazaki, Japan  \n",
              "4805           Nagano, Japan  \n",
              "4806         Nagasaki, Japan  \n",
              "4807             Nara, Japan  \n",
              "4808          Niigata, Japan  \n",
              "4809             Oita, Japan  \n",
              "4810          Okayama, Japan  \n",
              "4811          Okinawa, Japan  \n",
              "4812            Osaka, Japan  \n",
              "4813  Port Quarantine, Japan  \n",
              "4814             Saga, Japan  \n",
              "4815          Saitama, Japan  \n",
              "4816            Shiga, Japan  \n",
              "4817          Shimane, Japan  \n",
              "4818         Shizuoka, Japan  \n",
              "4819          Tochigi, Japan  \n",
              "4820        Tokushima, Japan  \n",
              "4821            Tokyo, Japan  \n",
              "4822          Tottori, Japan  \n",
              "4823           Toyama, Japan  \n",
              "4824          Unknown, Japan  \n",
              "4825         Wakayama, Japan  \n",
              "4826         Yamagata, Japan  \n",
              "4827        Yamaguchi, Japan  \n",
              "4828        Yamanashi, Japan  "
            ]
          },
          "execution_count": 21,
          "metadata": {},
          "output_type": "execute_result"
        }
      ],
      "source": [
        "df.loc[df['date'] == '2020-09-01']"
      ]
    },
    {
      "cell_type": "code",
      "execution_count": 22,
      "metadata": {
        "colab": {
          "base_uri": "https://localhost:8080/",
          "height": 641
        },
        "id": "vuQIhHExJIDE",
        "outputId": "c3f68497-0e30-45ec-e9ca-1a0ec4c2c916"
      },
      "outputs": [
        {
          "data": {
            "text/html": [
              "\n",
              "  <div id=\"df-14f4f390-e86d-4886-a4ea-6606aad9a5d7\">\n",
              "    <div class=\"colab-df-container\">\n",
              "      <div>\n",
              "<style scoped>\n",
              "    .dataframe tbody tr th:only-of-type {\n",
              "        vertical-align: middle;\n",
              "    }\n",
              "\n",
              "    .dataframe tbody tr th {\n",
              "        vertical-align: top;\n",
              "    }\n",
              "\n",
              "    .dataframe thead th {\n",
              "        text-align: right;\n",
              "    }\n",
              "</style>\n",
              "<table border=\"1\" class=\"dataframe\">\n",
              "  <thead>\n",
              "    <tr style=\"text-align: right;\">\n",
              "      <th></th>\n",
              "      <th>city</th>\n",
              "      <th>country</th>\n",
              "      <th>date</th>\n",
              "      <th>latitude</th>\n",
              "      <th>longitude</th>\n",
              "      <th>location_geom</th>\n",
              "      <th>confirmed</th>\n",
              "      <th>deaths</th>\n",
              "      <th>recovered</th>\n",
              "      <th>active</th>\n",
              "      <th>combined_key</th>\n",
              "    </tr>\n",
              "  </thead>\n",
              "  <tbody>\n",
              "    <tr>\n",
              "      <th>39031</th>\n",
              "      <td>Aichi</td>\n",
              "      <td>Japan</td>\n",
              "      <td>2022-08-01</td>\n",
              "      <td>35.035551</td>\n",
              "      <td>137.211621</td>\n",
              "      <td>POINT(137.211621 35.035551)</td>\n",
              "      <td>801137</td>\n",
              "      <td>2170.0</td>\n",
              "      <td>0.0</td>\n",
              "      <td>0.0</td>\n",
              "      <td>Aichi, Japan</td>\n",
              "    </tr>\n",
              "    <tr>\n",
              "      <th>39032</th>\n",
              "      <td>Akita</td>\n",
              "      <td>Japan</td>\n",
              "      <td>2022-08-01</td>\n",
              "      <td>39.748679</td>\n",
              "      <td>140.408228</td>\n",
              "      <td>POINT(140.408228 39.748679)</td>\n",
              "      <td>45910</td>\n",
              "      <td>79.0</td>\n",
              "      <td>0.0</td>\n",
              "      <td>0.0</td>\n",
              "      <td>Akita, Japan</td>\n",
              "    </tr>\n",
              "    <tr>\n",
              "      <th>39033</th>\n",
              "      <td>Aomori</td>\n",
              "      <td>Japan</td>\n",
              "      <td>2022-08-01</td>\n",
              "      <td>40.781541</td>\n",
              "      <td>140.828896</td>\n",
              "      <td>POINT(140.828896 40.781541)</td>\n",
              "      <td>92161</td>\n",
              "      <td>142.0</td>\n",
              "      <td>0.0</td>\n",
              "      <td>0.0</td>\n",
              "      <td>Aomori, Japan</td>\n",
              "    </tr>\n",
              "    <tr>\n",
              "      <th>39034</th>\n",
              "      <td>Chiba</td>\n",
              "      <td>Japan</td>\n",
              "      <td>2022-08-01</td>\n",
              "      <td>35.510141</td>\n",
              "      <td>140.198917</td>\n",
              "      <td>POINT(140.198917 35.510141)</td>\n",
              "      <td>629498</td>\n",
              "      <td>1873.0</td>\n",
              "      <td>0.0</td>\n",
              "      <td>0.0</td>\n",
              "      <td>Chiba, Japan</td>\n",
              "    </tr>\n",
              "    <tr>\n",
              "      <th>39035</th>\n",
              "      <td>Ehime</td>\n",
              "      <td>Japan</td>\n",
              "      <td>2022-08-01</td>\n",
              "      <td>33.624835</td>\n",
              "      <td>132.856842</td>\n",
              "      <td>POINT(132.856842 33.624835)</td>\n",
              "      <td>72268</td>\n",
              "      <td>152.0</td>\n",
              "      <td>0.0</td>\n",
              "      <td>0.0</td>\n",
              "      <td>Ehime, Japan</td>\n",
              "    </tr>\n",
              "    <tr>\n",
              "      <th>...</th>\n",
              "      <td>...</td>\n",
              "      <td>...</td>\n",
              "      <td>...</td>\n",
              "      <td>...</td>\n",
              "      <td>...</td>\n",
              "      <td>...</td>\n",
              "      <td>...</td>\n",
              "      <td>...</td>\n",
              "      <td>...</td>\n",
              "      <td>...</td>\n",
              "      <td>...</td>\n",
              "    </tr>\n",
              "    <tr>\n",
              "      <th>39614</th>\n",
              "      <td>Unknown</td>\n",
              "      <td>Japan</td>\n",
              "      <td>2022-08-12</td>\n",
              "      <td>35.215827</td>\n",
              "      <td>136.224654</td>\n",
              "      <td>unknown</td>\n",
              "      <td>8</td>\n",
              "      <td>0.0</td>\n",
              "      <td>0.0</td>\n",
              "      <td>0.0</td>\n",
              "      <td>Unknown, Japan</td>\n",
              "    </tr>\n",
              "    <tr>\n",
              "      <th>39615</th>\n",
              "      <td>Wakayama</td>\n",
              "      <td>Japan</td>\n",
              "      <td>2022-08-12</td>\n",
              "      <td>33.911879</td>\n",
              "      <td>135.505446</td>\n",
              "      <td>POINT(135.505446 33.911879)</td>\n",
              "      <td>85362</td>\n",
              "      <td>165.0</td>\n",
              "      <td>0.0</td>\n",
              "      <td>0.0</td>\n",
              "      <td>Wakayama, Japan</td>\n",
              "    </tr>\n",
              "    <tr>\n",
              "      <th>39616</th>\n",
              "      <td>Yamagata</td>\n",
              "      <td>Japan</td>\n",
              "      <td>2022-08-12</td>\n",
              "      <td>38.448396</td>\n",
              "      <td>140.102154</td>\n",
              "      <td>POINT(140.102154 38.448396)</td>\n",
              "      <td>54348</td>\n",
              "      <td>113.0</td>\n",
              "      <td>0.0</td>\n",
              "      <td>0.0</td>\n",
              "      <td>Yamagata, Japan</td>\n",
              "    </tr>\n",
              "    <tr>\n",
              "      <th>39617</th>\n",
              "      <td>Yamaguchi</td>\n",
              "      <td>Japan</td>\n",
              "      <td>2022-08-12</td>\n",
              "      <td>34.201190</td>\n",
              "      <td>131.573293</td>\n",
              "      <td>POINT(131.573293 34.20119)</td>\n",
              "      <td>94647</td>\n",
              "      <td>224.0</td>\n",
              "      <td>0.0</td>\n",
              "      <td>0.0</td>\n",
              "      <td>Yamaguchi, Japan</td>\n",
              "    </tr>\n",
              "    <tr>\n",
              "      <th>39618</th>\n",
              "      <td>Yamanashi</td>\n",
              "      <td>Japan</td>\n",
              "      <td>2022-08-12</td>\n",
              "      <td>35.612364</td>\n",
              "      <td>138.611489</td>\n",
              "      <td>POINT(138.611489 35.612364)</td>\n",
              "      <td>64108</td>\n",
              "      <td>90.0</td>\n",
              "      <td>0.0</td>\n",
              "      <td>0.0</td>\n",
              "      <td>Yamanashi, Japan</td>\n",
              "    </tr>\n",
              "  </tbody>\n",
              "</table>\n",
              "<p>588 rows × 11 columns</p>\n",
              "</div>\n",
              "      <button class=\"colab-df-convert\" onclick=\"convertToInteractive('df-14f4f390-e86d-4886-a4ea-6606aad9a5d7')\"\n",
              "              title=\"Convert this dataframe to an interactive table.\"\n",
              "              style=\"display:none;\">\n",
              "        \n",
              "  <svg xmlns=\"http://www.w3.org/2000/svg\" height=\"24px\"viewBox=\"0 0 24 24\"\n",
              "       width=\"24px\">\n",
              "    <path d=\"M0 0h24v24H0V0z\" fill=\"none\"/>\n",
              "    <path d=\"M18.56 5.44l.94 2.06.94-2.06 2.06-.94-2.06-.94-.94-2.06-.94 2.06-2.06.94zm-11 1L8.5 8.5l.94-2.06 2.06-.94-2.06-.94L8.5 2.5l-.94 2.06-2.06.94zm10 10l.94 2.06.94-2.06 2.06-.94-2.06-.94-.94-2.06-.94 2.06-2.06.94z\"/><path d=\"M17.41 7.96l-1.37-1.37c-.4-.4-.92-.59-1.43-.59-.52 0-1.04.2-1.43.59L10.3 9.45l-7.72 7.72c-.78.78-.78 2.05 0 2.83L4 21.41c.39.39.9.59 1.41.59.51 0 1.02-.2 1.41-.59l7.78-7.78 2.81-2.81c.8-.78.8-2.07 0-2.86zM5.41 20L4 18.59l7.72-7.72 1.47 1.35L5.41 20z\"/>\n",
              "  </svg>\n",
              "      </button>\n",
              "      \n",
              "  <style>\n",
              "    .colab-df-container {\n",
              "      display:flex;\n",
              "      flex-wrap:wrap;\n",
              "      gap: 12px;\n",
              "    }\n",
              "\n",
              "    .colab-df-convert {\n",
              "      background-color: #E8F0FE;\n",
              "      border: none;\n",
              "      border-radius: 50%;\n",
              "      cursor: pointer;\n",
              "      display: none;\n",
              "      fill: #1967D2;\n",
              "      height: 32px;\n",
              "      padding: 0 0 0 0;\n",
              "      width: 32px;\n",
              "    }\n",
              "\n",
              "    .colab-df-convert:hover {\n",
              "      background-color: #E2EBFA;\n",
              "      box-shadow: 0px 1px 2px rgba(60, 64, 67, 0.3), 0px 1px 3px 1px rgba(60, 64, 67, 0.15);\n",
              "      fill: #174EA6;\n",
              "    }\n",
              "\n",
              "    [theme=dark] .colab-df-convert {\n",
              "      background-color: #3B4455;\n",
              "      fill: #D2E3FC;\n",
              "    }\n",
              "\n",
              "    [theme=dark] .colab-df-convert:hover {\n",
              "      background-color: #434B5C;\n",
              "      box-shadow: 0px 1px 3px 1px rgba(0, 0, 0, 0.15);\n",
              "      filter: drop-shadow(0px 1px 2px rgba(0, 0, 0, 0.3));\n",
              "      fill: #FFFFFF;\n",
              "    }\n",
              "  </style>\n",
              "\n",
              "      <script>\n",
              "        const buttonEl =\n",
              "          document.querySelector('#df-14f4f390-e86d-4886-a4ea-6606aad9a5d7 button.colab-df-convert');\n",
              "        buttonEl.style.display =\n",
              "          google.colab.kernel.accessAllowed ? 'block' : 'none';\n",
              "\n",
              "        async function convertToInteractive(key) {\n",
              "          const element = document.querySelector('#df-14f4f390-e86d-4886-a4ea-6606aad9a5d7');\n",
              "          const dataTable =\n",
              "            await google.colab.kernel.invokeFunction('convertToInteractive',\n",
              "                                                     [key], {});\n",
              "          if (!dataTable) return;\n",
              "\n",
              "          const docLinkHtml = 'Like what you see? Visit the ' +\n",
              "            '<a target=\"_blank\" href=https://colab.research.google.com/notebooks/data_table.ipynb>data table notebook</a>'\n",
              "            + ' to learn more about interactive tables.';\n",
              "          element.innerHTML = '';\n",
              "          dataTable['output_type'] = 'display_data';\n",
              "          await google.colab.output.renderOutput(dataTable, element);\n",
              "          const docLink = document.createElement('div');\n",
              "          docLink.innerHTML = docLinkHtml;\n",
              "          element.appendChild(docLink);\n",
              "        }\n",
              "      </script>\n",
              "    </div>\n",
              "  </div>\n",
              "  "
            ],
            "text/plain": [
              "            city country        date   latitude   longitude  \\\n",
              "39031      Aichi   Japan  2022-08-01  35.035551  137.211621   \n",
              "39032      Akita   Japan  2022-08-01  39.748679  140.408228   \n",
              "39033     Aomori   Japan  2022-08-01  40.781541  140.828896   \n",
              "39034      Chiba   Japan  2022-08-01  35.510141  140.198917   \n",
              "39035      Ehime   Japan  2022-08-01  33.624835  132.856842   \n",
              "...          ...     ...         ...        ...         ...   \n",
              "39614    Unknown   Japan  2022-08-12  35.215827  136.224654   \n",
              "39615   Wakayama   Japan  2022-08-12  33.911879  135.505446   \n",
              "39616   Yamagata   Japan  2022-08-12  38.448396  140.102154   \n",
              "39617  Yamaguchi   Japan  2022-08-12  34.201190  131.573293   \n",
              "39618  Yamanashi   Japan  2022-08-12  35.612364  138.611489   \n",
              "\n",
              "                     location_geom  confirmed  deaths  recovered  active  \\\n",
              "39031  POINT(137.211621 35.035551)     801137  2170.0        0.0     0.0   \n",
              "39032  POINT(140.408228 39.748679)      45910    79.0        0.0     0.0   \n",
              "39033  POINT(140.828896 40.781541)      92161   142.0        0.0     0.0   \n",
              "39034  POINT(140.198917 35.510141)     629498  1873.0        0.0     0.0   \n",
              "39035  POINT(132.856842 33.624835)      72268   152.0        0.0     0.0   \n",
              "...                            ...        ...     ...        ...     ...   \n",
              "39614                      unknown          8     0.0        0.0     0.0   \n",
              "39615  POINT(135.505446 33.911879)      85362   165.0        0.0     0.0   \n",
              "39616  POINT(140.102154 38.448396)      54348   113.0        0.0     0.0   \n",
              "39617   POINT(131.573293 34.20119)      94647   224.0        0.0     0.0   \n",
              "39618  POINT(138.611489 35.612364)      64108    90.0        0.0     0.0   \n",
              "\n",
              "           combined_key  \n",
              "39031      Aichi, Japan  \n",
              "39032      Akita, Japan  \n",
              "39033     Aomori, Japan  \n",
              "39034      Chiba, Japan  \n",
              "39035      Ehime, Japan  \n",
              "...                 ...  \n",
              "39614    Unknown, Japan  \n",
              "39615   Wakayama, Japan  \n",
              "39616   Yamagata, Japan  \n",
              "39617  Yamaguchi, Japan  \n",
              "39618  Yamanashi, Japan  \n",
              "\n",
              "[588 rows x 11 columns]"
            ]
          },
          "execution_count": 22,
          "metadata": {},
          "output_type": "execute_result"
        }
      ],
      "source": [
        "# Mencari data bulan ini\n",
        "current_month = df[df['date'] > '2022-08-00']\n",
        "current_month"
      ]
    },
    {
      "cell_type": "markdown",
      "metadata": {
        "id": "5rNCgqDqKxwu"
      },
      "source": [
        "Kita juga bisa mencari jumlah kematian setiap harinya di Jepang"
      ]
    },
    {
      "cell_type": "code",
      "execution_count": 23,
      "metadata": {
        "colab": {
          "base_uri": "https://localhost:8080/"
        },
        "id": "0uu4fJfzJ4N5",
        "outputId": "3ffa1469-e689-4769-9444-468d2a53c9f8"
      },
      "outputs": [
        {
          "data": {
            "text/plain": [
              "date\n",
              "2020-05-28      881.0\n",
              "2020-05-29      887.0\n",
              "2020-05-30      894.0\n",
              "2020-05-31      898.0\n",
              "2020-06-01      899.0\n",
              "               ...   \n",
              "2022-08-08    33844.0\n",
              "2022-08-09    34122.0\n",
              "2022-08-10    34373.0\n",
              "2022-08-11    34579.0\n",
              "2022-08-12    34789.0\n",
              "Name: deaths, Length: 807, dtype: float64"
            ]
          },
          "execution_count": 23,
          "metadata": {},
          "output_type": "execute_result"
        }
      ],
      "source": [
        "df.groupby('date', sort = True)['deaths'].sum()"
      ]
    },
    {
      "cell_type": "markdown",
      "metadata": {
        "id": "9bHJk5LvLbbr"
      },
      "source": [
        "Kita bisa mencari kasus positif terkecil dari tiap kota"
      ]
    },
    {
      "cell_type": "code",
      "execution_count": 24,
      "metadata": {
        "colab": {
          "base_uri": "https://localhost:8080/"
        },
        "id": "w3kIh-3tLCg3",
        "outputId": "ba2450fd-94af-43ef-ce93-f522cc9c89a1"
      },
      "outputs": [
        {
          "data": {
            "text/plain": [
              "city\n",
              "Aichi               506\n",
              "Akita                16\n",
              "Aomori               27\n",
              "Chiba               906\n",
              "Ehime                82\n",
              "Fukui               122\n",
              "Fukuoka             701\n",
              "Fukushima            81\n",
              "Gifu                150\n",
              "Gunma               149\n",
              "Hiroshima           164\n",
              "Hokkaido           1070\n",
              "Hyogo               699\n",
              "Ibaraki             168\n",
              "Ishikawa            297\n",
              "Iwate                 0\n",
              "Kagawa               28\n",
              "Kagoshima            10\n",
              "Kanagawa           1349\n",
              "Kochi                74\n",
              "Kumamoto             47\n",
              "Kyoto               358\n",
              "Mie                  45\n",
              "Miyagi               88\n",
              "Miyazaki             17\n",
              "Nagano               75\n",
              "Nagasaki             17\n",
              "Nara                 92\n",
              "Niigata              82\n",
              "Oita                 60\n",
              "Okayama              25\n",
              "Okinawa             145\n",
              "Osaka              1782\n",
              "Port Quarantine     180\n",
              "Saga                 45\n",
              "Saitama            1002\n",
              "Shiga               100\n",
              "Shimane              24\n",
              "Shizuoka             75\n",
              "Tochigi              65\n",
              "Tokushima             5\n",
              "Tokyo              5199\n",
              "Tottori               3\n",
              "Toyama              227\n",
              "Unknown               8\n",
              "Wakayama             63\n",
              "Yamagata             69\n",
              "Yamaguchi            37\n",
              "Yamanashi            64\n",
              "Name: confirmed, dtype: int64"
            ]
          },
          "execution_count": 24,
          "metadata": {},
          "output_type": "execute_result"
        }
      ],
      "source": [
        "df.groupby('city', sort = True)['confirmed'].min()"
      ]
    },
    {
      "cell_type": "markdown",
      "metadata": {
        "id": "ty2yiGVkLnO4"
      },
      "source": [
        "## Visualisasi data"
      ]
    },
    {
      "cell_type": "code",
      "execution_count": 25,
      "metadata": {
        "id": "pXGDSSUuLm3N"
      },
      "outputs": [],
      "source": [
        "%matplotlib inline\n",
        "from matplotlib import pyplot as plt"
      ]
    },
    {
      "cell_type": "markdown",
      "metadata": {
        "id": "4uUtVIypOi45"
      },
      "source": [
        "Kita coba menampilkan jumlah kasus positif di kota Kyoto dari awal 2020 hingga sekarang"
      ]
    },
    {
      "cell_type": "code",
      "execution_count": 26,
      "metadata": {
        "colab": {
          "base_uri": "https://localhost:8080/",
          "height": 297
        },
        "id": "xn6ZasC9MFWg",
        "outputId": "df94c0f6-c71b-412a-8464-73a87cd630dd"
      },
      "outputs": [
        {
          "data": {
            "text/plain": [
              "<matplotlib.axes._subplots.AxesSubplot at 0x7f5f148cef50>"
            ]
          },
          "execution_count": 26,
          "metadata": {},
          "output_type": "execute_result"
        },
        {
          "data": {
            "image/png": "[encoded data removed]",
            "text/plain": [
              "<Figure size 432x288 with 1 Axes>"
            ]
          },
          "metadata": {
            "needs_background": "light"
          },
          "output_type": "display_data"
        }
      ],
      "source": [
        "df[df['city'] == 'Kyoto'].groupby('date')['confirmed'].max().plot()"
      ]
    },
    {
      "cell_type": "markdown",
      "metadata": {
        "id": "3iS8tswYOsc3"
      },
      "source": [
        "Kita juga bisa menampilkan jumlah kematian tertinggi setiap kota dalam bentuk pie chart"
      ]
    },
    {
      "cell_type": "code",
      "execution_count": 27,
      "metadata": {
        "colab": {
          "base_uri": "https://localhost:8080/",
          "height": 266
        },
        "id": "t1HDPU3BOABH",
        "outputId": "bdcd2ed5-4ec6-4ef2-bcc6-606b9a0832c0"
      },
      "outputs": [
        {
          "data": {
            "text/plain": [
              "<matplotlib.axes._subplots.AxesSubplot at 0x7f5f14382dd0>"
            ]
          },
          "execution_count": 27,
          "metadata": {},
          "output_type": "execute_result"
        },
        {
          "data": {
            "image/png": "[encoded data removed]",
            "text/plain": [
              "<Figure size 432x288 with 1 Axes>"
            ]
          },
          "metadata": {},
          "output_type": "display_data"
        }
      ],
      "source": [
        "filtered_df.groupby('city')['confirmed'].max().plot(kind = 'pie')"
      ]
    },
    {
      "cell_type": "markdown",
      "metadata": {
        "id": "aAjtirO16V0V"
      },
      "source": [
        "Kita bisa menampilkan data tingkat kematian tiap kota di Jepang"
      ]
    },
    {
      "cell_type": "code",
      "execution_count": 28,
      "metadata": {
        "colab": {
          "base_uri": "https://localhost:8080/",
          "height": 792
        },
        "id": "hLN3WjqW0Ptl",
        "outputId": "53fd368b-958f-4d0f-b25f-58fa9ee236f0"
      },
      "outputs": [
        {
          "data": {
            "text/plain": [
              "<matplotlib.legend.Legend at 0x7f5f149b3ad0>"
            ]
          },
          "execution_count": 28,
          "metadata": {},
          "output_type": "execute_result"
        },
        {
          "data": {
            "image/png": "[encoded data removed]",
            "text/plain": [
              "<Figure size 1080x360 with 1 Axes>"
            ]
          },
          "metadata": {
            "needs_background": "light"
          },
          "output_type": "display_data"
        }
      ],
      "source": [
        "# menggunakan sumber https://stackoverflow.com/questions/17298313/python-pandas-convert-rows-as-column-headers\n",
        "\n",
        "\n",
        "# kita membuat dataframe baru yang hanya berisi date, city, dan deaths\n",
        "new_df = df[['date', 'city', 'deaths']].copy()\n",
        "table = pd.pivot_table(new_df, values='deaths', index=['date'],\n",
        "                    columns=['city'], aggfunc=np.sum) # mengubah bentuk dataframe supaya mudah dibuat plot\n",
        "table.plot(figsize = (15, 5))\n",
        "plt.legend(bbox_to_anchor=(1.0, 1.0))"
      ]
    },
    {
      "cell_type": "markdown",
      "metadata": {
        "id": "IzKihXimgDe6"
      },
      "source": [
        "Dari visualisasi diatas kita bisa menampilkan 2 kota dengan tingkat kematian tertinggi supaya lebih mudah dilihat yaitu perbandingan data jumlah kematian antara Tokyo dan Osaka"
      ]
    },
    {
      "cell_type": "code",
      "execution_count": 29,
      "metadata": {
        "colab": {
          "base_uri": "https://localhost:8080/",
          "height": 279
        },
        "id": "-yHYvxBDaGEa",
        "outputId": "3bba0f41-6c05-4a1a-fcaf-56c6371e4383"
      },
      "outputs": [
        {
          "data": {
            "image/png": "[encoded data removed]",
            "text/plain": [
              "<Figure size 432x288 with 1 Axes>"
            ]
          },
          "metadata": {
            "needs_background": "light"
          },
          "output_type": "display_data"
        }
      ],
      "source": [
        "# menggunakan sumber dari https://stackoverflow.com/questions/13872533/plot-different-dataframes-in-the-same-figure\n",
        "# menggunakan sumber dari https://stackoverflow.com/questions/33149428/modify-the-legend-of-pandas-bar-plot\n",
        "\n",
        "ax = df[df['city'] == 'Tokyo'].groupby('date')['deaths'].max().plot(colormap = 'jet')\n",
        "df[df['city'] == 'Osaka'].groupby('date')['deaths'].max().plot(ax=ax, colormap = 'spring')\n",
        "plt.legend(['Tokyo', 'Osaka']);"
      ]
    },
    {
      "cell_type": "markdown",
      "metadata": {
        "id": "yDvCj9_e7lmP"
      },
      "source": [
        "Dari data diatas menunjukan ternyata Tokyo bukan merupakan kota dengan tingkat kematian tertinggi karena masih kalah dengan kota Osaka."
      ]
    },
    {
      "cell_type": "markdown",
      "metadata": {
        "id": "sxd1ksxrgpoP"
      },
      "source": [
        "# vi. Kesimpulan\n",
        "\n"
      ]
    },
    {
      "cell_type": "markdown",
      "metadata": {
        "id": "3VeBXpDDeZhX"
      },
      "source": [
        "Setelah melakukan eksplorasi pada data yang ada dengan tujuan problem statement yaitu tingkat kematian karna covid-19 di kota Tokyo paling tinggi dari kota lain di Jepang ternyata salah. Menurut hasil visualisasi data, walaupun Tokyo merupakan kota terbesar dan juga kota dengan populasi terbanyak di Jepang ternyata sampai dengan bulan Agustus 2022 meskipun tingkat kematian di Tokyo lebih tinggi dibandingkan dengan mayoritas kota lain, ternyata tingkat kematian di kota Tokyo masih lebih rendah dibandingkan dengan tingkat kematian kota Osaka."
      ]
    }
  ],
  "metadata": {
    "colab": {
      "collapsed_sections": [],
      "name": "h8dsft_P0W1_immanuel_yosia_alfrenco.ipynb",
      "provenance": []
    },
    "kernelspec": {
      "display_name": "Python 3.10.5 64-bit",
      "language": "python",
      "name": "python3"
    },
    "language_info": {
      "name": "python",
      "version": "3.10.5"
    },
    "vscode": {
      "interpreter": {
        "hash": "aee8b7b246df8f9039afb4144a1f6fd8d2ca17a180786b69acc140d282b71a49"
      }
    }
  },
  "nbformat": 4,
  "nbformat_minor": 0
}
